{
 "cells": [
  {
   "cell_type": "code",
   "execution_count": 1,
   "metadata": {
    "collapsed": true
   },
   "outputs": [],
   "source": [
    "using BenchmarkTools\n",
    "using Iterators: subsets"
   ]
  },
  {
   "cell_type": "code",
   "execution_count": 84,
   "metadata": {
    "collapsed": false
   },
   "outputs": [
    {
     "name": "stderr",
     "output_type": "stream",
     "text": [
      "WARNING: redefining constant words\n"
     ]
    }
   ],
   "source": [
    "const words = lowercase.(strip.(split(readstring(\"data/113809of.fic\"))));"
   ]
  },
  {
   "cell_type": "code",
   "execution_count": 85,
   "metadata": {
    "collapsed": false
   },
   "outputs": [],
   "source": [
    "import Collective"
   ]
  },
  {
   "cell_type": "code",
   "execution_count": 156,
   "metadata": {
    "collapsed": false
   },
   "outputs": [
    {
     "name": "stderr",
     "output_type": "stream",
     "text": [
      "INFO: Recompiling stale cache file /Users/rdeits/.julia/lib/v0.5/Collective.ji for module Collective.\n",
      "WARNING: replacing module Collective.\n"
     ]
    }
   ],
   "source": [
    "reload(\"Collective\")"
   ]
  },
  {
   "cell_type": "code",
   "execution_count": 157,
   "metadata": {
    "collapsed": false
   },
   "outputs": [],
   "source": [
    "corpus = Collective.Corpus(words[1:Int(round(length(words) / 10000)):end]);"
   ]
  },
  {
   "cell_type": "code",
   "execution_count": 158,
   "metadata": {
    "collapsed": false
   },
   "outputs": [
    {
     "data": {
      "text/plain": [
       "(String[\"fuzz\",\"foo\",\"lowered\"],Collective.FeatureResult(\"has at least 1 reverse alphabetical bigrams\",Collective.#49,Bool[false,false,true],5.903002375525849e-5))"
      ]
     },
     "execution_count": 158,
     "metadata": {},
     "output_type": "execute_result"
    }
   ],
   "source": [
    "Collective.best_cluster(corpus, w, 3)"
   ]
  },
  {
   "cell_type": "code",
   "execution_count": 147,
   "metadata": {
    "collapsed": false
   },
   "outputs": [
    {
     "data": {
      "text/plain": [
       "Collective.FeatureResult(\"has at least 1 reverse alphabetical bigrams\",Collective.#49,Bool[false,false,true,true,true],0.00019589391792554)"
      ]
     },
     "execution_count": 147,
     "metadata": {},
     "output_type": "execute_result"
    }
   ],
   "source": [
    "Collective.best_feature(corpus, w)"
   ]
  },
  {
   "cell_type": "code",
   "execution_count": 149,
   "metadata": {
    "collapsed": false
   },
   "outputs": [
    {
     "name": "stderr",
     "output_type": "stream",
     "text": [
      "WARNING: Method definition cluster(Any, Any, Any) in module Main at In[143]:2 overwritten at In[149]:2.\n"
     ]
    },
    {
     "data": {
      "text/plain": [
       "cluster (generic function with 1 method)"
      ]
     },
     "execution_count": 149,
     "metadata": {},
     "output_type": "execute_result"
    }
   ],
   "source": [
    "function cluster(corpus, words, n)\n",
    "    vals = corpus.features.evaluate.(words)\n",
    "    x = Inf\n",
    "    best_subset = Int[]\n",
    "    for subset in subsets(collect(1:length(vals)), n)\n",
    "        f = Collective.best_feature(corpus, vals[subset])\n",
    "        p = f.probability\n",
    "        if p < x\n",
    "            x = p\n",
    "            best_subset = subset\n",
    "        end\n",
    "    end\n",
    "    words[best_subset]\n",
    "end"
   ]
  },
  {
   "cell_type": "code",
   "execution_count": 150,
   "metadata": {
    "collapsed": false
   },
   "outputs": [
    {
     "data": {
      "text/plain": [
       "BenchmarkTools.Trial: \n",
       "  memory estimate:  140.95 kb\n",
       "  allocs estimate:  656\n",
       "  --------------\n",
       "  minimum time:     414.194 μs (0.00% GC)\n",
       "  median time:      426.450 μs (0.00% GC)\n",
       "  mean time:        487.894 μs (6.33% GC)\n",
       "  maximum time:     8.838 ms (90.44% GC)\n",
       "  --------------\n",
       "  samples:          10000\n",
       "  evals/sample:     1\n",
       "  time tolerance:   5.00%\n",
       "  memory tolerance: 1.00%"
      ]
     },
     "execution_count": 150,
     "metadata": {},
     "output_type": "execute_result"
    }
   ],
   "source": [
    "w = [\"fuzz\", \"foo\", \"lowered\", \"levitate\", \"inanimate\"]\n",
    "@benchmark cluster($corpus, $w, 3)"
   ]
  },
  {
   "cell_type": "code",
   "execution_count": null,
   "metadata": {
    "collapsed": true
   },
   "outputs": [],
   "source": []
  },
  {
   "cell_type": "code",
   "execution_count": 159,
   "metadata": {
    "collapsed": false
   },
   "outputs": [
    {
     "data": {
      "text/plain": [
       "24-element Array{String,1}:\n",
       " \"onyx\"       \n",
       " \"posted\"     \n",
       " \"tux\"        \n",
       " \"commutative\"\n",
       " \"engineroom\" \n",
       " \"klutzy\"     \n",
       " \"onlocation\" \n",
       " \"omnivorous\" \n",
       " \"individual\" \n",
       " \"mozambique\" \n",
       " \"balked\"     \n",
       " \"ghost\"      \n",
       " \"hugoweaving\"\n",
       " \"annotation\" \n",
       " \"almost\"     \n",
       " \"mountaindew\"\n",
       " \"highnoon\"   \n",
       " \"artificial\" \n",
       " \"films\"      \n",
       " \"sequoia\"    \n",
       " \"chimp\"      \n",
       " \"biopsy\"     \n",
       " \"annieproulx\"\n",
       " \"barspoon\"   "
      ]
     },
     "execution_count": 159,
     "metadata": {},
     "output_type": "execute_result"
    }
   ],
   "source": [
    "behave = shuffle([\n",
    "    \"annieproulx\",\n",
    "\"commutative\",\n",
    "\"hugoweaving\",\n",
    "\"mountaindew\",\n",
    "\"mozambique\",\n",
    "\"sequoia\",\n",
    "\"annotation\",\n",
    "\"artificial\",\n",
    "\"engineroom\",\n",
    "\"individual\",\n",
    "\"omnivorous\",\n",
    "\"onlocation\",\n",
    "\"almost\",\n",
    "\"biopsy\",\n",
    "\"chimp\",\n",
    "\"films\",\n",
    "\"ghost\",\n",
    "\"tux\",\n",
    "\"balked\",\n",
    "\"barspoon\",\n",
    "\"highnoon\",\n",
    "\"klutzy\",\n",
    "\"onyx\",\n",
    "\"posted\",\n",
    "])"
   ]
  },
  {
   "cell_type": "code",
   "execution_count": 160,
   "metadata": {
    "collapsed": false
   },
   "outputs": [
    {
     "name": "stdout",
     "output_type": "stream",
     "text": [
      "c1 = String[\"tux\",\"ghost\",\"almost\",\"films\",\"chimp\",\"biopsy\"]\n"
     ]
    },
    {
     "data": {
      "text/plain": [
       "Collective.FeatureResult(\"has at least 1 reverse alphabetical bigrams\",Collective.#49,Bool[false,false,false,false,false,false],7.720764319213579e-15)"
      ]
     },
     "execution_count": 160,
     "metadata": {},
     "output_type": "execute_result"
    }
   ],
   "source": [
    "c1, f1 = Collective.best_cluster(corpus, behave, 6)\n",
    "@show c1\n",
    "sort(Collective.analyze(corpus, c1))[1]"
   ]
  },
  {
   "cell_type": "code",
   "execution_count": 162,
   "metadata": {
    "collapsed": false
   },
   "outputs": [
    {
     "name": "stdout",
     "output_type": "stream",
     "text": [
      "c2 = String[\"commutative\",\"mozambique\",\"hugoweaving\",\"mountaindew\",\"sequoia\",\"annieproulx\"]\n"
     ]
    },
    {
     "data": {
      "text/plain": [
       "Collective.FeatureResult(\"has 5 unique vowels\",Collective.#32,Bool[true,true,true,true,true,true],6.788029344188344e-13)"
      ]
     },
     "execution_count": 162,
     "metadata": {},
     "output_type": "execute_result"
    }
   ],
   "source": [
    "remaining = setdiff(behave, c1)\n",
    "c2, f2 = Collective.best_cluster(corpus, remaining, 6)\n",
    "@show c2\n",
    "sort(Collective.analyze(corpus, c2))[1]"
   ]
  },
  {
   "cell_type": "code",
   "execution_count": 163,
   "metadata": {
    "collapsed": false
   },
   "outputs": [
    {
     "name": "stdout",
     "output_type": "stream",
     "text": [
      "c3 = String[\"onyx\",\"posted\",\"klutzy\",\"onlocation\",\"balked\",\"barspoon\"]\n"
     ]
    },
    {
     "data": {
      "text/plain": [
       "Collective.FeatureResult(\"has at least 2 reverse sequential bigrams\",Collective.#53,Bool[true,true,true,true,true,true],3.2390058912091412e-9)"
      ]
     },
     "execution_count": 163,
     "metadata": {},
     "output_type": "execute_result"
    }
   ],
   "source": [
    "remaining = setdiff(setdiff(behave, c1), c2)\n",
    "c3, f3 = Collective.best_cluster(corpus, remaining, 6)\n",
    "@show c3\n",
    "sort(Collective.analyze(corpus, c3))[1]"
   ]
  },
  {
   "cell_type": "code",
   "execution_count": 164,
   "metadata": {
    "collapsed": false
   },
   "outputs": [
    {
     "name": "stdout",
     "output_type": "stream",
     "text": [
      "remaining = String[\"engineroom\",\"omnivorous\",\"individual\",\"annotation\",\"highnoon\",\"artificial\"]\n"
     ]
    },
    {
     "data": {
      "text/plain": [
       "Collective.FeatureResult(\"has scrabble score 15\",Collective.#28,Bool[false,true,true,false,true,true],0.0003434067294473176)"
      ]
     },
     "execution_count": 164,
     "metadata": {},
     "output_type": "execute_result"
    }
   ],
   "source": [
    "remaining = setdiff(setdiff(setdiff(behave, c1), c2), c3)\n",
    "@show remaining\n",
    "Collective.best_feature(corpus, remaining)\n",
    "# sort(Collective.analyze(corpus, remaining))[1]"
   ]
  },
  {
   "cell_type": "code",
   "execution_count": null,
   "metadata": {
    "collapsed": true
   },
   "outputs": [],
   "source": []
  }
 ],
 "metadata": {
  "kernelspec": {
   "display_name": "Julia 0.5.0",
   "language": "julia",
   "name": "julia-0.5"
  },
  "language_info": {
   "file_extension": ".jl",
   "mimetype": "application/julia",
   "name": "julia",
   "version": "0.5.0"
  }
 },
 "nbformat": 4,
 "nbformat_minor": 2
}
