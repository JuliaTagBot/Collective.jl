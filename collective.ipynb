{
 "cells": [
  {
   "cell_type": "markdown",
   "metadata": {},
   "source": [
    "# Collective.jl: A tool for finding patterns\n",
    "\n",
    "Collective.jl is a Julia package designed to identify interesting *features* from a collection of words. This is a common mechanic in puzzles you might find at, for example, the MIT Mystery Hunt. \n",
    "\n",
    "This is a Jupyter notebook using the Julia programming language to run Collective.jl. You can learn more about Jupyter notebooks at <http://jupyter.org/> and about Julia at [julialang.org](http://docs.julialang.org/en/stable/manual/introduction/). \n",
    "\n",
    "If you want to use this package without installing Julia, you can use [juliabox](https://juliabox.com/). Just sign in at [juliabox.com](https://juliabox.com/) and upload this file. \n",
    "\n",
    "## Features\n",
    "\n",
    "A *feature* is just a boolean property of a word, like `\"contains the letter 'a'\"` or `\"is a palindrome\"`. Many features can also include scalar quantities. For example, we might want to compute a family of features for a word's Scrabble score. Those features would look like: `\"scrabble score == 1\"`, `\"scrabble score == 2\"`, ..., `\"scrabble score == n\".` \n",
    "\n",
    "## Interestingness\n",
    "\n",
    "A particular set of words can satisfy many features. For example, if I give you the list of words: `[\"questionable\", \"businesswoman\", \"exhaustion\", \"discouraged\", \"communicated\", \"hallucinogen\", \"sequoia\"]`, you might tell me that they all contain the letter 'a'. That's true, but it's much more interesting to notice that they all contain *all 5 vowels*. We measure this degree of interestingness using the standard binomial probability distribution: given `n` words, we can compute the probability that `k` of them satisfy some feature `F` as:\n",
    "\n",
    "\t(n choose k) * f^k * (1 - f)^(n - k)\n",
    "\n",
    "where `f` is the frequency with wich feature `F` occurs in the population of words (in this case, the dictionary). The most interesting feature is the one whose probability of `k` occurrences is smallest. "
   ]
  },
  {
   "cell_type": "markdown",
   "metadata": {},
   "source": [
    "# Installation"
   ]
  },
  {
   "cell_type": "code",
   "execution_count": 11,
   "metadata": {
    "collapsed": false
   },
   "outputs": [
    {
     "data": {
      "text/plain": [
       "true"
      ]
     },
     "execution_count": 11,
     "metadata": {},
     "output_type": "execute_result"
    }
   ],
   "source": [
    "# If you don't have Collective.jl already, this will install it\n",
    "# directly from github (even on JuliaBox):\n",
    "isdir(Pkg.dir(\"Collective\")) || Pkg.clone(\"https://github.com/rdeits/Collective.jl.git\")"
   ]
  },
  {
   "cell_type": "markdown",
   "metadata": {},
   "source": [
    "# Usage"
   ]
  },
  {
   "cell_type": "code",
   "execution_count": 12,
   "metadata": {
    "collapsed": true
   },
   "outputs": [],
   "source": [
    "# Load the package\n",
    "using Collective"
   ]
  },
  {
   "cell_type": "markdown",
   "metadata": {},
   "source": [
    "To determine the frequency distribution of each feature, we'll need a population of English words:"
   ]
  },
  {
   "cell_type": "code",
   "execution_count": 16,
   "metadata": {
    "collapsed": false
   },
   "outputs": [
    {
     "name": "stderr",
     "output_type": "stream",
     "text": [
      "WARNING: redefining constant words\n"
     ]
    }
   ],
   "source": [
    "const words = wordlist(open(joinpath(Pkg.dir(\"Collective\"), \n",
    "                                     \"data\", \n",
    "                                     \"113809of.fic\")));"
   ]
  },
  {
   "cell_type": "markdown",
   "metadata": {},
   "source": [
    "Constructing a `Corpus` does all the hard work of compiling functions for every feature and testing their frequencies (this will take a few seconds):"
   ]
  },
  {
   "cell_type": "code",
   "execution_count": 17,
   "metadata": {
    "collapsed": false
   },
   "outputs": [
    {
     "data": {
      "text/plain": [
       "Corpus with 752 features"
      ]
     },
     "execution_count": 17,
     "metadata": {},
     "output_type": "execute_result"
    }
   ],
   "source": [
    "corpus = Corpus(words)"
   ]
  },
  {
   "cell_type": "markdown",
   "metadata": {},
   "source": [
    "Now we can use that corpus to solve puzzles. Here's a set of words:"
   ]
  },
  {
   "cell_type": "code",
   "execution_count": 18,
   "metadata": {
    "collapsed": false
   },
   "outputs": [
    {
     "data": {
      "text/plain": [
       "7-element Array{String,1}:\n",
       " \"questionable\" \n",
       " \"businesswoman\"\n",
       " \"exhaustion\"   \n",
       " \"discouraged\"  \n",
       " \"communicated\" \n",
       " \"hallucinogen\" \n",
       " \"sequoia\"      "
      ]
     },
     "execution_count": 18,
     "metadata": {},
     "output_type": "execute_result"
    }
   ],
   "source": [
    "puzzle = [\"questionable\", \"businesswoman\", \"exhaustion\", \"discouraged\", \"communicated\", \"hallucinogen\", \"sequoia\"]"
   ]
  },
  {
   "cell_type": "markdown",
   "metadata": {},
   "source": [
    "We can run the feature statistics with `analyze()`:"
   ]
  },
  {
   "cell_type": "code",
   "execution_count": 20,
   "metadata": {
    "collapsed": false
   },
   "outputs": [
    {
     "data": {
      "text/plain": [
       "5-element Array{Collective.FeatureResult,1}:\n",
       " Feature: 0/7 matches, p=0.9999384950620512: has scrabble score 1\n",
       " Feature: 0/7 matches, p=0.9979106502875219: has scrabble score 2\n",
       " Feature: 0/7 matches, p=0.9905663542684028: has scrabble score 3\n",
       " Feature: 0/7 matches, p=0.9668969109147115: has scrabble score 4\n",
       " Feature: 0/7 matches, p=0.926295207128359: has scrabble score 5 "
      ]
     },
     "execution_count": 20,
     "metadata": {},
     "output_type": "execute_result"
    }
   ],
   "source": [
    "results = analyze(corpus, puzzle)\n",
    "results[1:5]"
   ]
  },
  {
   "cell_type": "markdown",
   "metadata": {},
   "source": [
    "Analyze returns a vector of `FeatureResult`s, each of which contains:\n",
    "\n",
    "* A human-readable description of the feature\n",
    "* A function to evaluate that feature\n",
    "* The number of words in the puzzle which match that feature\n",
    "* The binomial probability of that number of matches\n",
    "\n",
    "To get the best features, we can just sort that list:"
   ]
  },
  {
   "cell_type": "code",
   "execution_count": 22,
   "metadata": {
    "collapsed": false
   },
   "outputs": [
    {
     "data": {
      "text/plain": [
       "5-element Array{Collective.FeatureResult,1}:\n",
       " Feature: 7/7 matches, p=6.201497887698415e-15: has 5 unique vowels    \n",
       " Feature: 5/7 matches, p=3.530553756449584e-7: has 10 unique letters   \n",
       " Feature: 7/7 matches, p=6.767335359488334e-5: contains 'u'            \n",
       " Feature: 3/7 matches, p=0.0009855954016791447: contains 'u' at index 5\n",
       " Feature: 7/7 matches, p=0.0014321567657974046: contains 'o'           "
      ]
     },
     "execution_count": 22,
     "metadata": {},
     "output_type": "execute_result"
    }
   ],
   "source": [
    "sort(results)[1:5]"
   ]
  },
  {
   "cell_type": "markdown",
   "metadata": {},
   "source": [
    "That first feature has a probability of about $1$ in $6 \\times 10^{15}$. It's extremely unlikely that 7 randomly chosen words would have 5 unique vowels each. So that's the feature we should use for whatever the next step of the puzzle is! \n",
    "\n",
    "If we don't want the whole sorted list of features, we can just get the single best one:"
   ]
  },
  {
   "cell_type": "code",
   "execution_count": 24,
   "metadata": {
    "collapsed": false
   },
   "outputs": [
    {
     "data": {
      "text/plain": [
       "Feature: 7/7 matches, p=6.201497887698415e-15: has 5 unique vowels"
      ]
     },
     "execution_count": 24,
     "metadata": {},
     "output_type": "execute_result"
    }
   ],
   "source": [
    "best_feature = minimum(results)"
   ]
  },
  {
   "cell_type": "markdown",
   "metadata": {},
   "source": [
    "## More examples\n",
    "\n",
    "There are a variety of puzzles used for testing Collective, and they show off some of the interesting patterns it can detect. The full list can be found here: <https://github.com/rdeits/Collective.jl/tree/master/test/puzzles>\n",
    "\n",
    "Some of those examples are reproduced below:"
   ]
  },
  {
   "cell_type": "markdown",
   "metadata": {},
   "source": [
    "# Clockwork Orange (2013)\n",
    "<http://web.mit.edu/puzzle/www/2013/coinheist.com/rubik/clockwork_orange/index.html>"
   ]
  },
  {
   "cell_type": "code",
   "execution_count": 40,
   "metadata": {
    "collapsed": false
   },
   "outputs": [
    {
     "data": {
      "text/plain": [
       "Feature: 8/8 matches, p=3.480975449342696e-5: has at least 2 letters repeated exactly 2 times each"
      ]
     },
     "execution_count": 40,
     "metadata": {},
     "output_type": "execute_result"
    }
   ],
   "source": [
    "minimum(analyze(corpus, [\"armoredrecon\", \"hypapante\", \"commemorativebats\", \"derricktruck\", \"brownrot\", \"attorneysgeneral\", \"sacrosanct\", \"impromptu\"]))"
   ]
  },
  {
   "cell_type": "markdown",
   "metadata": {},
   "source": [
    "# Venntersections (2014)\n",
    "<http://www.mit.edu/~puzzle/2014/puzzle/venntersections/>"
   ]
  },
  {
   "cell_type": "code",
   "execution_count": 41,
   "metadata": {
    "collapsed": false
   },
   "outputs": [
    {
     "data": {
      "text/plain": [
       "Feature: 7/7 matches, p=6.454937703778084e-8: contains 'a' at index 4 from end"
      ]
     },
     "execution_count": 41,
     "metadata": {},
     "output_type": "execute_result"
    }
   ],
   "source": [
    "minimum(analyze(corpus, [\"grimaced\", \"formally\", \"questionable\", \"discouraged\", \"communicated\", \"chrysalis\", \"saccharin\"]))"
   ]
  },
  {
   "cell_type": "code",
   "execution_count": 42,
   "metadata": {
    "collapsed": false
   },
   "outputs": [
    {
     "data": {
      "text/plain": [
       "Feature: 7/7 matches, p=1.1709177354405793e-5: contains 'm'"
      ]
     },
     "execution_count": 42,
     "metadata": {},
     "output_type": "execute_result"
    }
   ],
   "source": [
    "minimum(analyze(corpus, [\"thumbtacks\", \"monologue\", \"testimony\", \"camel\", \"meteorology\", \"trampoline\", \"achievement\"]))"
   ]
  },
  {
   "cell_type": "code",
   "execution_count": 43,
   "metadata": {
    "collapsed": false
   },
   "outputs": [
    {
     "data": {
      "text/plain": [
       "Feature: 7/7 matches, p=2.1365907082135037e-9: contains a greek letter"
      ]
     },
     "execution_count": 43,
     "metadata": {},
     "output_type": "execute_result"
    }
   ],
   "source": [
    "minimum(analyze(corpus, [\"philharmonic\", \"mischievous\", \"alphabet\", \"restaurant\", \"leeching\", \"mushroom\", \"pioneer\"]))"
   ]
  },
  {
   "cell_type": "markdown",
   "metadata": {},
   "source": [
    "## Clustering\n",
    "\n",
    "Collective also knows how to cluster words. Specifically, given a list of M words, and a number N < M, it will try to find the group of N words which are related by a single very interesting feature. For example:\n"
   ]
  },
  {
   "cell_type": "code",
   "execution_count": 26,
   "metadata": {
    "collapsed": false
   },
   "outputs": [],
   "source": [
    "puzzle = shuffle([\"hugoweaving\",\n",
    "                          \"mountaindew\",\n",
    "                          \"mozambique\",\n",
    "                          \"sequoia\",\n",
    "                          \"annotation\",\n",
    "                          \"artificial\",\n",
    "                          \"individual\",\n",
    "                          \"omnivorous\",\n",
    "                          \"onlocation\",\n",
    "                          \"almost\",\n",
    "                          \"biopsy\",\n",
    "                          \"chimp\",\n",
    "                          \"films\",\n",
    "                          \"ghost\",\n",
    "                          \"tux\",\n",
    "                          \"balked\",\n",
    "                          \"highnoon\",\n",
    "                          \"posted\"]);"
   ]
  },
  {
   "cell_type": "code",
   "execution_count": 28,
   "metadata": {
    "collapsed": false
   },
   "outputs": [
    {
     "data": {
      "text/plain": [
       "(String[\"films\",\"biopsy\",\"tux\",\"ghost\",\"chimp\",\"almost\"],Feature: 6/6 matches, p=2.0626137770374948e-14: has 0 reverse alphabetical bigrams)"
      ]
     },
     "execution_count": 28,
     "metadata": {},
     "output_type": "execute_result"
    }
   ],
   "source": [
    "# Find the best cluster of size 6 from the list in puzzle, using\n",
    "# statistics from corpus\n",
    "cluster = best_cluster(corpus, puzzle, 6)"
   ]
  },
  {
   "cell_type": "markdown",
   "metadata": {},
   "source": [
    "The 6 words which were identified are: `[\"biopsy\",\"films\",\"chimp\",\"almost\",\"tux\",\"ghost\"]`. The feature which was returned says that all 6 words have no reverse alphabetical bigrams, and that the probability of such an occurrence is 1 in 2e-14. Putting it another way, it says that *every* word has only alphabetical bigrams, or, more plainly, every word has all of its letters in alphabetical order. "
   ]
  },
  {
   "cell_type": "code",
   "execution_count": null,
   "metadata": {
    "collapsed": true
   },
   "outputs": [],
   "source": []
  }
 ],
 "metadata": {
  "kernelspec": {
   "display_name": "Julia 0.5.0",
   "language": "julia",
   "name": "julia-0.5"
  },
  "language_info": {
   "file_extension": ".jl",
   "mimetype": "application/julia",
   "name": "julia",
   "version": "0.5.0"
  }
 },
 "nbformat": 4,
 "nbformat_minor": 1
}
