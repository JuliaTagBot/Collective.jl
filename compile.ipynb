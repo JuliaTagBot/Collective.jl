{
 "cells": [
  {
   "cell_type": "code",
   "execution_count": 1,
   "metadata": {
    "collapsed": true
   },
   "outputs": [],
   "source": [
    "using BenchmarkTools"
   ]
  },
  {
   "cell_type": "code",
   "execution_count": 313,
   "metadata": {
    "collapsed": false
   },
   "outputs": [
    {
     "data": {
      "text/plain": [
       "Symbol(\"##scrabble#346\")"
      ]
     },
     "execution_count": 313,
     "metadata": {},
     "output_type": "execute_result"
    }
   ],
   "source": [
    "gensym(:scrabble)"
   ]
  },
  {
   "cell_type": "code",
   "execution_count": 359,
   "metadata": {
    "collapsed": false,
    "scrolled": true
   },
   "outputs": [
    {
     "name": "stderr",
     "output_type": "stream",
     "text": [
      "WARNING: replacing module compile\n"
     ]
    },
    {
     "data": {
      "text/plain": [
       "compile"
      ]
     },
     "execution_count": 359,
     "metadata": {},
     "output_type": "execute_result"
    }
   ],
   "source": [
    "module compile\n",
    "\n",
    "macro feature(ex, description::String=\"\")\n",
    "    Expr(:call, :Feature, Expr(:quote, ex), Expr(:quote, Expr(:quote, description)))\n",
    "end\n",
    "\n",
    "macro feature(ex, description::Expr)\n",
    "    Expr(:call, :Feature, Expr(:quote, ex), Expr(:quote, description))\n",
    "end\n",
    "\n",
    "function extract_cached_features!(setup::Vector{Expr}, rhs::Expr, input_var::Symbol)\n",
    "    for (i, expr) in enumerate(rhs.args)\n",
    "        if isa(expr, Expr)\n",
    "            if expr.head == :call && length(expr.args) == 2 && expr.args[2] == input_var\n",
    "                cached_varname = gensym(expr.args[1])\n",
    "                push!(setup, :($cached_varname = $(copy(expr))))\n",
    "                rhs.args[i] = cached_varname\n",
    "            else\n",
    "                extract_cached_features!(setup, expr, input_var)\n",
    "            end\n",
    "        end\n",
    "    end\n",
    "end\n",
    "\n",
    "function extract_cached_features(expr::Expr, input_var::Symbol)\n",
    "    setup = Expr[]\n",
    "    rhs = copy(expr)\n",
    "    extract_cached_features!(setup, rhs, input_var)\n",
    "    Expr(:block, setup...), rhs\n",
    "end\n",
    "\n",
    "immutable Feature\n",
    "    setup::Expr\n",
    "    test::Expr\n",
    "    args::Vector{Tuple{Symbol, Expr}}\n",
    "    length::Int\n",
    "    description::Expr\n",
    "    function Feature(expr::Expr, description::Expr)\n",
    "        rhs = expr.args[1]\n",
    "        args = Tuple{Symbol, Expr}[]\n",
    "        for ex in expr.args[2:end]\n",
    "            @assert ex.head == :(=)\n",
    "            push!(args, (ex.args[1], ex.args[2]))\n",
    "        end\n",
    "        len = prod(length(eval(ex[2])) for ex in args)\n",
    "        setup, test = extract_cached_features(rhs, :word)\n",
    "        new(setup, test, args, len, description)\n",
    "    end\n",
    "end\n",
    "       \n",
    "    immutable FeatureSet{F}\n",
    "        features::Vector{Feature}\n",
    "        evaluate::F\n",
    "        descriptions::Vector{String}\n",
    "    end\n",
    "    \n",
    "    function compile_test(features::Vector{Feature})\n",
    "        num_features = sum([f.length for f in features])\n",
    "        result = Expr(:block, [f.setup for f in features]...)\n",
    "        push!(result.args, quote\n",
    "            values = falses($(num_features))\n",
    "            i = 1\n",
    "        end)\n",
    "        for (i, feat) in enumerate(features)\n",
    "            inner = quote\n",
    "                values[i] = $(feat.test)\n",
    "                i += 1\n",
    "            end\n",
    "            for (var, expr) in reverse(feat.args)\n",
    "              inner = quote\n",
    "                    for $var in $expr\n",
    "                        $inner\n",
    "                    end\n",
    "                end\n",
    "            end\n",
    "            push!(result.args, inner)\n",
    "        end\n",
    "        push!(result.args, :values)\n",
    "        println(result)\n",
    "        result\n",
    "    end\n",
    "    \n",
    "    function compile_descriptions(features::Vector{Feature})\n",
    "        num_features = sum([f.length for f in features])\n",
    "        result = quote\n",
    "            values = Vector{String}($(num_features))\n",
    "            i = 1\n",
    "        end\n",
    "        for (i, feat) in enumerate(features)\n",
    "            inner = quote\n",
    "                values[i] = $(feat.description)\n",
    "                i += 1\n",
    "            end\n",
    "            for (var, expr) in reverse(feat.args)\n",
    "              inner = quote\n",
    "                    for $var in $expr\n",
    "                        $inner\n",
    "                    end\n",
    "                end\n",
    "            end\n",
    "            push!(result.args, inner)\n",
    "        end\n",
    "        push!(result.args, :values)\n",
    "        result\n",
    "    end\n",
    "\n",
    "    function FeatureSet(features)\n",
    "        test_expr = compile_test(features)\n",
    "        description_expr = compile_descriptions(features)\n",
    "        FeatureSet(features,\n",
    "            eval(:((word) -> $(test_expr))),\n",
    "            eval(:(() -> $(description_expr)))())\n",
    "    end\n",
    "\n",
    "    function scrabble_score(word::String)\n",
    "        sum(scrabble_score(c) for c in word)\n",
    "    end\n",
    "\n",
    "    scrabble_score(char::Char) = SCRABBLE_SCORES[char]\n",
    "\n",
    "    const SCRABBLE_SCORES = Dict{Char, Int}(\n",
    "        'e' => 1,\n",
    "        'a' => 1,\n",
    "        'i' => 1,\n",
    "        'o' => 1,\n",
    "        'n' => 1,\n",
    "        'r' => 1,\n",
    "        't' => 1,\n",
    "        'l' => 1,\n",
    "        's' => 1,\n",
    "        'u' => 1,\n",
    "        'd' => 2,\n",
    "        'g' => 2,\n",
    "        'b' => 3,\n",
    "        'c' => 3,\n",
    "        'm' => 3,\n",
    "        'p' => 3,\n",
    "        'f' => 4,\n",
    "        'h' => 4,\n",
    "        'v' => 4,\n",
    "        'w' => 4,\n",
    "        'y' => 4,\n",
    "        'k' => 5,\n",
    "        'j' => 8,\n",
    "        'x' => 8,\n",
    "        'q' => 10,\n",
    "        'z' => 10\n",
    "    )\n",
    "\n",
    "function allfeatures()\n",
    "    features = Feature[]\n",
    "    push!(features, @feature((scrabble_score(word) == j for j in 1:26), \"scrabble score $j\"))\n",
    "    push!(features, @feature((c in word for c in 'a':'z'), \"contains $c\"))\n",
    "    push!(features, @feature((length(word) >= j && word[j] == c for c in 'a':'z', j in 1:26), \"contains $c at index $j\"))\n",
    "    features\n",
    "end\n",
    "    \n",
    "\n",
    "end\n",
    "    \n",
    "\n"
   ]
  },
  {
   "cell_type": "code",
   "execution_count": 360,
   "metadata": {
    "collapsed": false
   },
   "outputs": [
    {
     "data": {
      "text/plain": [
       "3-element Array{compile.Feature,1}:\n",
       " compile.Feature(quote \n",
       "    ##scrabble_score#360 = scrabble_score(word)\n",
       "end,:(##scrabble_score#360 == j),Tuple{Symbol,Expr}[(:j,:(1:26))],26,:(\"scrabble score $(j)\"))                 \n",
       " compile.Feature(quote \n",
       "end,:(c in word),Tuple{Symbol,Expr}[(:c,:('a':'z'))],26,:(\"contains $(c)\"))                                                                                    \n",
       " compile.Feature(quote \n",
       "    ##length#361 = length(word)\n",
       "end,:(##length#361 >= j && word[j] == c),Tuple{Symbol,Expr}[(:c,:('a':'z')),(:j,:(1:26))],676,:(\"contains $(c) at index $(j)\"))"
      ]
     },
     "execution_count": 360,
     "metadata": {},
     "output_type": "execute_result"
    }
   ],
   "source": [
    "compile.allfeatures()"
   ]
  },
  {
   "cell_type": "code",
   "execution_count": 361,
   "metadata": {
    "collapsed": false
   },
   "outputs": [
    {
     "name": "stdout",
     "output_type": "stream",
     "text": [
      "begin \n",
      "    begin \n",
      "        ##scrabble_score#362 = scrabble_score(word)\n",
      "    end\n",
      "    begin \n",
      "    end\n",
      "    begin \n",
      "        ##length#363 = length(word)\n",
      "    end\n",
      "    begin  # In[359], line 61:\n",
      "        values = falses(728) # In[359], line 62:\n",
      "        i = 1\n",
      "    end\n",
      "    begin  # In[359], line 71:\n",
      "        for j = 1:26 # In[359], line 72:\n",
      "            begin  # In[359], line 66:\n",
      "                values[i] = ##scrabble_score#362 == j # In[359], line 67:\n",
      "                i += 1\n",
      "            end\n",
      "        end\n",
      "    end\n",
      "    begin  # In[359], line 71:\n",
      "        for c = 'a':'z' # In[359], line 72:\n",
      "            begin  # In[359], line 66:\n",
      "                values[i] = c in word # In[359], line 67:\n",
      "                i += 1\n",
      "            end\n",
      "        end\n",
      "    end\n",
      "    begin  # In[359], line 71:\n",
      "        for c = 'a':'z' # In[359], line 72:\n",
      "            begin  # In[359], line 71:\n",
      "                for j = 1:26 # In[359], line 72:\n",
      "                    begin  # In[359], line 66:\n",
      "                        values[i] = ##length#363 >= j && word[j] == c # In[359], line 67:\n",
      "                        i += 1\n",
      "                    end\n",
      "                end\n",
      "            end\n",
      "        end\n",
      "    end\n",
      "    values\n",
      "end\n"
     ]
    },
    {
     "data": {
      "text/plain": [
       "compile.FeatureSet{compile.##9#10}(compile.Feature[compile.Feature(quote \n",
       "    ##scrabble_score#362 = scrabble_score(word)\n",
       "end,:(##scrabble_score#362 == j),Tuple{Symbol,Expr}[(:j,:(1:26))],26,:(\"scrabble score $(j)\")),compile.Feature(quote \n",
       "end,:(c in word),Tuple{Symbol,Expr}[(:c,:('a':'z'))],26,:(\"contains $(c)\")),compile.Feature(quote \n",
       "    ##length#363 = length(word)\n",
       "end,:(##length#363 >= j && word[j] == c),Tuple{Symbol,Expr}[(:c,:('a':'z')),(:j,:(1:26))],676,:(\"contains $(c) at index $(j)\"))],compile.#9,String[\"scrabble score 1\",\"scrabble score 2\",\"scrabble score 3\",\"scrabble score 4\",\"scrabble score 5\",\"scrabble score 6\",\"scrabble score 7\",\"scrabble score 8\",\"scrabble score 9\",\"scrabble score 10\"  …  \"contains z at index 17\",\"contains z at index 18\",\"contains z at index 19\",\"contains z at index 20\",\"contains z at index 21\",\"contains z at index 22\",\"contains z at index 23\",\"contains z at index 24\",\"contains z at index 25\",\"contains z at index 26\"])"
      ]
     },
     "execution_count": 361,
     "metadata": {},
     "output_type": "execute_result"
    }
   ],
   "source": [
    "fset = compile.FeatureSet(compile.allfeatures())"
   ]
  },
  {
   "cell_type": "code",
   "execution_count": 363,
   "metadata": {
    "collapsed": false
   },
   "outputs": [
    {
     "data": {
      "text/plain": [
       "728-element BitArray{1}:\n",
       " false\n",
       " false\n",
       " false\n",
       " false\n",
       " false\n",
       " false\n",
       " false\n",
       "  true\n",
       " false\n",
       " false\n",
       " false\n",
       " false\n",
       " false\n",
       "     ⋮\n",
       " false\n",
       " false\n",
       " false\n",
       " false\n",
       " false\n",
       " false\n",
       " false\n",
       " false\n",
       " false\n",
       " false\n",
       " false\n",
       " false"
      ]
     },
     "execution_count": 363,
     "metadata": {},
     "output_type": "execute_result"
    }
   ],
   "source": [
    "vals = fset.evaluate(\"hello\")"
   ]
  },
  {
   "cell_type": "code",
   "execution_count": 366,
   "metadata": {
    "collapsed": false
   },
   "outputs": [
    {
     "data": {
      "text/plain": [
       "10-element Array{String,1}:\n",
       " \"scrabble score 8\"     \n",
       " \"contains e\"           \n",
       " \"contains h\"           \n",
       " \"contains l\"           \n",
       " \"contains o\"           \n",
       " \"contains e at index 2\"\n",
       " \"contains h at index 1\"\n",
       " \"contains l at index 3\"\n",
       " \"contains l at index 4\"\n",
       " \"contains o at index 5\""
      ]
     },
     "execution_count": 366,
     "metadata": {},
     "output_type": "execute_result"
    }
   ],
   "source": [
    "[fset.descriptions[i] for i in 1:length(fset.descriptions) if vals[i]]"
   ]
  },
  {
   "cell_type": "code",
   "execution_count": 367,
   "metadata": {
    "collapsed": false
   },
   "outputs": [
    {
     "data": {
      "text/plain": [
       "BenchmarkTools.Trial: \n",
       "  memory estimate:  240.00 bytes\n",
       "  allocs estimate:  4\n",
       "  --------------\n",
       "  minimum time:     8.050 μs (0.00% GC)\n",
       "  median time:      8.264 μs (0.00% GC)\n",
       "  mean time:        8.602 μs (0.00% GC)\n",
       "  maximum time:     29.199 μs (0.00% GC)\n",
       "  --------------\n",
       "  samples:          10000\n",
       "  evals/sample:     3\n",
       "  time tolerance:   5.00%\n",
       "  memory tolerance: 1.00%"
      ]
     },
     "execution_count": 367,
     "metadata": {},
     "output_type": "execute_result"
    }
   ],
   "source": [
    "word = \"hello\"\n",
    "@benchmark $fset.evaluate($word)"
   ]
  },
  {
   "cell_type": "code",
   "execution_count": 306,
   "metadata": {
    "collapsed": false
   },
   "outputs": [
    {
     "name": "stderr",
     "output_type": "stream",
     "text": [
      "WARNING: Method definition manual(Any) in module Main at In[304]:2 overwritten at In[306]:2.\n"
     ]
    },
    {
     "data": {
      "text/plain": [
       "manual (generic function with 1 method)"
      ]
     },
     "execution_count": 306,
     "metadata": {},
     "output_type": "execute_result"
    }
   ],
   "source": [
    "function manual(word)\n",
    "    values = BitArray{1}()\n",
    "    append!(values, BitArray{1}(c in word for c in 'a':'z'))\n",
    "    append!(values, (length(word) >= j && word[j] == c for c in 'a':'z' for j in 1:26))\n",
    "    values\n",
    "#     i = 1\n",
    "#     for v in (c in word for c in 'a':'z')\n",
    "#         values[i] = v\n",
    "#         i += 1\n",
    "#     end\n",
    "#     for v in (length(word) >= j && word[j] == c for c in 'a':'z' for j in 1:26)\n",
    "#         values[i] = v\n",
    "#         i += 1\n",
    "#         end\n",
    "#     values\n",
    "end\n",
    "    "
   ]
  },
  {
   "cell_type": "code",
   "execution_count": 307,
   "metadata": {
    "collapsed": false
   },
   "outputs": [
    {
     "ename": "LoadError",
     "evalue": "LoadError: MethodError: Cannot `convert` an object of type Base.Generator{StepRange{Char,Int64},##52#55{String}} to an object of type BitArray{1}\nThis may have arisen from a call to the constructor BitArray{1}(...),\nsince type constructors fall back to convert methods.\nwhile loading In[307], in expression starting on line 182",
     "output_type": "error",
     "traceback": [
      "LoadError: MethodError: Cannot `convert` an object of type Base.Generator{StepRange{Char,Int64},##52#55{String}} to an object of type BitArray{1}\nThis may have arisen from a call to the constructor BitArray{1}(...),\nsince type constructors fall back to convert methods.\nwhile loading In[307], in expression starting on line 182",
      "",
      " in manual(::String) at ./In[306]:3",
      " in ##core#344() at /Users/rdeits/.julia/v0.5/BenchmarkTools/src/execution.jl:250",
      " in ##sample#345(::BenchmarkTools.Parameters) at /Users/rdeits/.julia/v0.5/BenchmarkTools/src/execution.jl:257",
      " in #_run#58(::Bool, ::String, ::Array{Any,1}, ::Function, ::BenchmarkTools.Benchmark{Symbol(\"##benchmark#343\")}, ::BenchmarkTools.Parameters) at /Users/rdeits/.julia/v0.5/BenchmarkTools/src/execution.jl:285",
      " in (::BenchmarkTools.#kw##_run)(::Array{Any,1}, ::BenchmarkTools.#_run, ::BenchmarkTools.Benchmark{Symbol(\"##benchmark#343\")}, ::BenchmarkTools.Parameters) at ./<missing>:0",
      " in anonymous at ./<missing>:?",
      " in #run#17(::Array{Any,1}, ::Function, ::BenchmarkTools.Benchmark{Symbol(\"##benchmark#343\")}, ::BenchmarkTools.Parameters) at /Users/rdeits/.julia/v0.5/BenchmarkTools/src/execution.jl:32",
      " in (::Base.#kw##run)(::Array{Any,1}, ::Base.#run, ::BenchmarkTools.Benchmark{Symbol(\"##benchmark#343\")}, ::BenchmarkTools.Parameters) at ./<missing>:0",
      " in warmup(::BenchmarkTools.Benchmark{Symbol(\"##benchmark#343\")}) at /Users/rdeits/.julia/v0.5/BenchmarkTools/src/execution.jl:67"
     ]
    }
   ],
   "source": [
    "word = \"hello\"\n",
    "@benchmark manual($word)"
   ]
  },
  {
   "cell_type": "code",
   "execution_count": null,
   "metadata": {
    "collapsed": true
   },
   "outputs": [],
   "source": []
  }
 ],
 "metadata": {
  "kernelspec": {
   "display_name": "Julia 0.5.0",
   "language": "julia",
   "name": "julia-0.5"
  },
  "language_info": {
   "file_extension": ".jl",
   "mimetype": "application/julia",
   "name": "julia",
   "version": "0.5.0"
  }
 },
 "nbformat": 4,
 "nbformat_minor": 2
}
