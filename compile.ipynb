{
 "cells": [
  {
   "cell_type": "code",
   "execution_count": 124,
   "metadata": {
    "collapsed": true
   },
   "outputs": [],
   "source": [
    "using BenchmarkTools"
   ]
  },
  {
   "cell_type": "code",
   "execution_count": 125,
   "metadata": {
    "collapsed": false,
    "scrolled": true
   },
   "outputs": [],
   "source": [
    "import Collective\n",
    "import PuzzleTools"
   ]
  },
  {
   "cell_type": "code",
   "execution_count": 198,
   "metadata": {
    "collapsed": false
   },
   "outputs": [],
   "source": [
    "words = lowercase.(strip.(split(readstring(\"data/113809of.fic\"))));"
   ]
  },
  {
   "cell_type": "code",
   "execution_count": 237,
   "metadata": {
    "collapsed": false
   },
   "outputs": [
    {
     "name": "stderr",
     "output_type": "stream",
     "text": [
      "WARNING: replacing module Collective.\n"
     ]
    }
   ],
   "source": [
    "reload(\"Collective\")"
   ]
  },
  {
   "cell_type": "code",
   "execution_count": 238,
   "metadata": {
    "collapsed": false
   },
   "outputs": [],
   "source": [
    "corpus = Collective.Corpus(words[1:Int(round(length(words) / 10000)):end]);"
   ]
  },
  {
   "cell_type": "code",
   "execution_count": 241,
   "metadata": {
    "collapsed": false
   },
   "outputs": [
    {
     "data": {
      "text/html": [
       "true"
      ],
      "text/plain": [
       "true"
      ]
     },
     "execution_count": 241,
     "metadata": {},
     "output_type": "execute_result"
    }
   ],
   "source": [
    "Collective.contains_repeated_consonant(\"carousels\")"
   ]
  },
  {
   "cell_type": "code",
   "execution_count": 248,
   "metadata": {
    "collapsed": false
   },
   "outputs": [
    {
     "name": "stdout",
     "output_type": "stream",
     "text": [
      "i = 339\n",
      "corpus.frequencies[i] = 0.03266647337392481\n"
     ]
    }
   ],
   "source": [
    "for i in 1:length(corpus.frequencies)\n",
    "    if corpus.features.descriptions[i] == \"contains 'l' at index 1\"\n",
    "        @show i corpus.frequencies[i]\n",
    "        break\n",
    "    end\n",
    "end"
   ]
  },
  {
   "cell_type": "code",
   "execution_count": 235,
   "metadata": {
    "collapsed": false
   },
   "outputs": [
    {
     "data": {
      "text/plain": [
       "7-element Array{Bool,1}:\n",
       " true\n",
       " true\n",
       " true\n",
       " true\n",
       " true\n",
       " true\n",
       " true"
      ]
     },
     "execution_count": 235,
     "metadata": {},
     "output_type": "execute_result"
    }
   ],
   "source": [
    "corpus.features.evaluators[1461].([\"levitate\", \"inanimate\", \"sizes\", \"lightly\", \"crocodile\", \"legislator\", \"carousels\"])"
   ]
  },
  {
   "cell_type": "code",
   "execution_count": 244,
   "metadata": {
    "collapsed": false
   },
   "outputs": [
    {
     "data": {
      "text/plain": [
       "20-element Array{Collective.FeatureResult,1}:\n",
       " Collective.FeatureResult(\"contains 'l' at index 1\",Collective.#26,Bool[true,false,false,true,false,true,false],0.00110508)           \n",
       " Collective.FeatureResult(\"has scrabble score 11\",Collective.#24,Bool[true,true,false,false,false,true,true],0.00313566)              \n",
       " Collective.FeatureResult(\"contains 'c' at index 9 from end\",Collective.#27,Bool[false,false,false,false,true,false,true],0.0079345)  \n",
       " Collective.FeatureResult(\"contains a repeated consonant\",Collective.#35,Bool[true,true,true,true,true,true,true],0.00939951)         \n",
       " Collective.FeatureResult(\"contains 'l' at index 2 from end\",Collective.#27,Bool[false,false,false,true,true,false,true],0.0095657)   \n",
       " Collective.FeatureResult(\"contains 'l' at index 8\",Collective.#26,Bool[false,false,false,false,true,false,true],0.00987603)          \n",
       " Collective.FeatureResult(\"has 4 reverse alphabetical bigrams\",Collective.#44,Bool[true,true,false,false,true,true,true],0.011867)    \n",
       " Collective.FeatureResult(\"has scrabble score 14\",Collective.#24,Bool[false,false,true,true,true,false,false],0.0144479)              \n",
       " Collective.FeatureResult(\"contains 'g' at index 3\",Collective.#26,Bool[false,false,false,true,false,true,false],0.0160199)           \n",
       " Collective.FeatureResult(\"contains 'e' at index 1 from end\",Collective.#27,Bool[true,true,false,false,true,false,false],0.0204086)   \n",
       " Collective.FeatureResult(\"alternates consonant vowel\",Collective.#31,Bool[true,true,true,false,false,false,false],0.0258449)         \n",
       " Collective.FeatureResult(\"contains 'z' at index 3\",Collective.#26,Bool[false,false,true,false,false,false,false],0.0320247)          \n",
       " Collective.FeatureResult(\"contains 't' at index 8\",Collective.#26,Bool[false,true,false,false,false,true,false],0.0373464)           \n",
       " Collective.FeatureResult(\"contains 'e' at index 9\",Collective.#26,Bool[false,true,false,false,true,false,false],0.0404721)           \n",
       " Collective.FeatureResult(\"contains 'a' at index 7\",Collective.#26,Bool[false,true,false,false,false,true,false],0.042922)            \n",
       " Collective.FeatureResult(\"contains 'l' at index 10 from end\",Collective.#27,Bool[false,false,false,false,false,true,false],0.0444561)\n",
       " Collective.FeatureResult(\"contains 'l' at index 6\",Collective.#26,Bool[false,false,false,true,false,true,false],0.0444827)           \n",
       " Collective.FeatureResult(\"contains 'r' at index 10\",Collective.#26,Bool[false,false,false,false,false,true,false],0.0470557)         \n",
       " Collective.FeatureResult(\"contains 'l'\",Collective.#25,Bool[true,false,false,true,true,true,true],0.0580602)                         \n",
       " Collective.FeatureResult(\"contains 't' at index 2 from end\",Collective.#27,Bool[true,true,false,false,false,false,false],0.0582733)  "
      ]
     },
     "execution_count": 244,
     "metadata": {},
     "output_type": "execute_result"
    }
   ],
   "source": [
    "sort(Collective.analyze(corpus, [\"levitate\", \"inanimate\", \"sizes\", \"lightly\", \"crocodile\", \"legislator\", \"carousels\"]))[1:20]"
   ]
  },
  {
   "cell_type": "code",
   "execution_count": 121,
   "metadata": {
    "collapsed": false
   },
   "outputs": [
    {
     "data": {
      "text/plain": [
       "5-element Array{Collective.FeatureResult,1}:\n",
       " Collective.FeatureResult(\"contains a at index 4 from end\",Bool[true,true,true,true,true,true,true],2.13491e-7)      \n",
       " Collective.FeatureResult(\"contains m at index 4\",Bool[true,true,false,false,true,false,false],0.00185169)           \n",
       " Collective.FeatureResult(\"contains s at index 9 from end\",Bool[false,false,true,true,false,false,true],0.00309857)  \n",
       " Collective.FeatureResult(\"5 unique vowels\",Bool[false,false,true,true,true,false,false],0.00720193)                 \n",
       " Collective.FeatureResult(\"contains q at index 12 from end\",Bool[false,false,true,false,false,false,false],0.0100677)"
      ]
     },
     "execution_count": 121,
     "metadata": {},
     "output_type": "execute_result"
    }
   ],
   "source": [
    "sort(Collective.analyze(corpus, [\"grimaced\", \"formally\", \"questionable\", \"discouraged\", \"communicated\", \"chrysalis\", \"saccharin\"]))[1:5]"
   ]
  },
  {
   "cell_type": "code",
   "execution_count": 122,
   "metadata": {
    "collapsed": false
   },
   "outputs": [
    {
     "data": {
      "text/plain": [
       "5-element Array{Collective.FeatureResult,1}:\n",
       " Collective.FeatureResult(\"contains m\",Bool[true,true,true,true,true,true,true],0.000187263)                        \n",
       " Collective.FeatureResult(\"contains t at index 1\",Bool[true,false,true,false,false,true,false],0.00981769)          \n",
       " Collective.FeatureResult(\"contains h at index 9 from end\",Bool[true,false,false,false,false,false,true],0.0184008) \n",
       " Collective.FeatureResult(\"contains n at index 2 from end\",Bool[false,false,true,false,false,true,true],0.0252534)  \n",
       " Collective.FeatureResult(\"contains t at index 10 from end\",Bool[true,false,false,false,false,true,false],0.0285695)"
      ]
     },
     "execution_count": 122,
     "metadata": {},
     "output_type": "execute_result"
    }
   ],
   "source": [
    "sort(Collective.analyze(corpus, [\"thumbtacks\", \"monologue\", \"testimony\", \"camel\", \"meteorology\", \"trampoline\", \"achievement\"]))[1:5]"
   ]
  },
  {
   "cell_type": "code",
   "execution_count": 123,
   "metadata": {
    "collapsed": false
   },
   "outputs": [
    {
     "data": {
      "text/plain": [
       "BenchmarkTools.Trial: \n",
       "  memory estimate:  3.30 kb\n",
       "  allocs estimate:  44\n",
       "  --------------\n",
       "  minimum time:     15.567 μs (0.00% GC)\n",
       "  median time:      16.500 μs (0.00% GC)\n",
       "  mean time:        19.378 μs (2.30% GC)\n",
       "  maximum time:     4.539 ms (98.04% GC)\n",
       "  --------------\n",
       "  samples:          10000\n",
       "  evals/sample:     1\n",
       "  time tolerance:   5.00%\n",
       "  memory tolerance: 1.00%"
      ]
     },
     "execution_count": 123,
     "metadata": {},
     "output_type": "execute_result"
    }
   ],
   "source": [
    "word = \"hello\"\n",
    "@benchmark $fset.evaluate($word)"
   ]
  },
  {
   "cell_type": "code",
   "execution_count": null,
   "metadata": {
    "collapsed": true
   },
   "outputs": [],
   "source": []
  }
 ],
 "metadata": {
  "kernelspec": {
   "display_name": "Julia 0.5.0",
   "language": "julia",
   "name": "julia-0.5"
  },
  "language_info": {
   "file_extension": ".jl",
   "mimetype": "application/julia",
   "name": "julia",
   "version": "0.5.0"
  }
 },
 "nbformat": 4,
 "nbformat_minor": 2
}
