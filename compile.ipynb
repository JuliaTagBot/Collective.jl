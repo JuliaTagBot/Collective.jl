{
 "cells": [
  {
   "cell_type": "code",
   "execution_count": 124,
   "metadata": {
    "collapsed": true
   },
   "outputs": [],
   "source": [
    "using BenchmarkTools"
   ]
  },
  {
   "cell_type": "code",
   "execution_count": 125,
   "metadata": {
    "collapsed": false,
    "scrolled": true
   },
   "outputs": [],
   "source": [
    "import Collective\n",
    "import PuzzleTools"
   ]
  },
  {
   "cell_type": "code",
   "execution_count": 198,
   "metadata": {
    "collapsed": false
   },
   "outputs": [],
   "source": [
    "words = lowercase.(strip.(split(readstring(\"data/113809of.fic\"))));"
   ]
  },
  {
   "cell_type": "code",
   "execution_count": 275,
   "metadata": {
    "collapsed": false
   },
   "outputs": [
    {
     "name": "stderr",
     "output_type": "stream",
     "text": [
      "INFO: Recompiling stale cache file /Users/rdeits/.julia/lib/v0.5/Collective.ji for module Collective.\n",
      "WARNING: replacing module Collective.\n"
     ]
    }
   ],
   "source": [
    "reload(\"Collective\")"
   ]
  },
  {
   "cell_type": "code",
   "execution_count": 276,
   "metadata": {
    "collapsed": false
   },
   "outputs": [],
   "source": [
    "corpus = Collective.Corpus(words[1:Int(round(length(words) / 10000)):end]);"
   ]
  },
  {
   "cell_type": "code",
   "execution_count": 277,
   "metadata": {
    "collapsed": false
   },
   "outputs": [
    {
     "data": {
      "text/plain": [
       "8-element Array{String,1}:\n",
       " \"armoredrecon\"     \n",
       " \"hypapante\"        \n",
       " \"commemorativebats\"\n",
       " \"derricktruck\"     \n",
       " \"brownrot\"         \n",
       " \"attorneysgeneral\" \n",
       " \"sacrosanct\"       \n",
       " \"impromptu\"        "
      ]
     },
     "execution_count": 277,
     "metadata": {},
     "output_type": "execute_result"
    }
   ],
   "source": [
    "rubik = "
   ]
  },
  {
   "cell_type": "code",
   "execution_count": 278,
   "metadata": {
    "collapsed": false
   },
   "outputs": [
    {
     "data": {
      "text/plain": [
       "681-element Array{Collective.FeatureResult,1}:\n",
       " Collective.FeatureResult(\"contains at least 2 repeated letters\",Collective.#39,Bool[true,true,true,true,true,true,true,true],0.000138185)             \n",
       " Collective.FeatureResult(\"contains 't' at index 8\",Collective.#30,Bool[false,true,false,true,true,false,false,true],0.000259201)                      \n",
       " Collective.FeatureResult(\"has 8 reverse alphabetical bigrams\",Collective.#49,Bool[false,false,true,false,false,true,false,false],0.000316072)         \n",
       " Collective.FeatureResult(\"contains at least 3 repeated letters\",Collective.#39,Bool[true,false,true,true,false,true,true,false],0.000350198)          \n",
       " Collective.FeatureResult(\"has at least 8 reverse alphabetical bigrams\",Collective.#50,Bool[false,false,true,false,false,true,false,false],0.000391839)\n",
       " Collective.FeatureResult(\"contains 5 repeated letters\",Collective.#38,Bool[false,false,true,false,false,true,false,false],0.000520469)                \n",
       " Collective.FeatureResult(\"contains at least 5 repeated letters\",Collective.#39,Bool[false,false,true,false,false,true,false,false],0.000641312)       \n",
       " Collective.FeatureResult(\"contains 'k' at index 12\",Collective.#30,Bool[false,false,false,true,false,false,false,false],0.000772909)                  \n",
       " Collective.FeatureResult(\"has at least 5 alphabetical bigrams\",Collective.#48,Bool[true,false,true,true,false,true,true,true],0.00082812)             \n",
       " Collective.FeatureResult(\"has at least 4 alphabetical bigrams\",Collective.#48,Bool[true,true,true,true,true,true,true,true],0.00121758)               \n",
       " Collective.FeatureResult(\"contains 'n' at index 12\",Collective.#30,Bool[true,false,false,false,false,true,false,false],0.00124728)                    \n",
       " Collective.FeatureResult(\"has at least 6 alphabetical bigrams\",Collective.#48,Bool[false,false,true,true,false,true,false,true],0.00127919)           \n",
       " Collective.FeatureResult(\"contains 'v' at index 12\",Collective.#30,Bool[false,false,true,false,false,false,false,false],0.00231716)                   \n",
       " ⋮                                                                                                                                                     \n",
       " Collective.FeatureResult(\"has 6 reverse sequential bigrams\",Collective.#53,Bool[false,false,false,false,false,false,false,false],0.999227)            \n",
       " Collective.FeatureResult(\"has 7 reverse sequential bigrams\",Collective.#53,Bool[false,false,false,false,false,false,false,false],0.999227)            \n",
       " Collective.FeatureResult(\"has 8 reverse sequential bigrams\",Collective.#53,Bool[false,false,false,false,false,false,false,false],0.999227)            \n",
       " Collective.FeatureResult(\"has 9 reverse sequential bigrams\",Collective.#53,Bool[false,false,false,false,false,false,false,false],0.999227)            \n",
       " Collective.FeatureResult(\"has 10 reverse sequential bigrams\",Collective.#53,Bool[false,false,false,false,false,false,false,false],0.999227)           \n",
       " Collective.FeatureResult(\"has at least 4 reverse sequential bigrams\",Collective.#54,Bool[false,false,false,false,false,false,false,false],0.999227)   \n",
       " Collective.FeatureResult(\"has at least 5 reverse sequential bigrams\",Collective.#54,Bool[false,false,false,false,false,false,false,false],0.999227)   \n",
       " Collective.FeatureResult(\"has at least 6 reverse sequential bigrams\",Collective.#54,Bool[false,false,false,false,false,false,false,false],0.999227)   \n",
       " Collective.FeatureResult(\"has at least 7 reverse sequential bigrams\",Collective.#54,Bool[false,false,false,false,false,false,false,false],0.999227)   \n",
       " Collective.FeatureResult(\"has at least 8 reverse sequential bigrams\",Collective.#54,Bool[false,false,false,false,false,false,false,false],0.999227)   \n",
       " Collective.FeatureResult(\"has at least 9 reverse sequential bigrams\",Collective.#54,Bool[false,false,false,false,false,false,false,false],0.999227)   \n",
       " Collective.FeatureResult(\"has at least 10 reverse sequential bigrams\",Collective.#54,Bool[false,false,false,false,false,false,false,false],0.999227)  "
      ]
     },
     "execution_count": 278,
     "metadata": {},
     "output_type": "execute_result"
    }
   ],
   "source": [
    "sort([f for f in Collective.analyze(corpus, rubik) if true])"
   ]
  },
  {
   "cell_type": "code",
   "execution_count": 263,
   "metadata": {
    "collapsed": false
   },
   "outputs": [
    {
     "data": {
      "text/plain": [
       "5-element Array{Collective.FeatureResult,1}:\n",
       " Collective.FeatureResult(\"has 8 unique letters\",Collective.#34,Bool[true,true,true,true,true,true,true,true,true],5.90962e-8)                  \n",
       " Collective.FeatureResult(\"contains 'a' at index 8\",Collective.#30,Bool[false,false,true,false,true,true,true,false,false],4.74683e-5)          \n",
       " Collective.FeatureResult(\"contains 1 repeated letters\",Collective.#38,Bool[true,true,true,true,true,true,true,true,true],0.000215179)          \n",
       " Collective.FeatureResult(\"contains 'a' at index 2 from end\",Collective.#31,Bool[false,false,true,false,true,true,true,false,false],0.000933254)\n",
       " Collective.FeatureResult(\"has 5 alphabetical bigrams\",Collective.#44,Bool[true,true,false,true,false,false,true,true,false],0.00184615)        "
      ]
     },
     "execution_count": 263,
     "metadata": {},
     "output_type": "execute_result"
    }
   ],
   "source": [
    "sort(Collective.analyze(corpus, [\"citygates\", \"impulsive\", \"clickspam\", \"baptistry\", \"leviathan\", \"policecar\", \"coupdetat\", \"sforzando\", \"cartwheel\"]))[1:5]"
   ]
  },
  {
   "cell_type": "code",
   "execution_count": 264,
   "metadata": {
    "collapsed": false
   },
   "outputs": [
    {
     "data": {
      "text/plain": [
       "5-element Array{Collective.FeatureResult,1}:\n",
       " Collective.FeatureResult(\"contains 'l' at index 1\",Collective.#30,Bool[true,false,false,true,false,true,false],0.00110508)        \n",
       " Collective.FeatureResult(\"has scrabble score 11\",Collective.#28,Bool[true,true,false,false,false,true,true],0.00313566)           \n",
       " Collective.FeatureResult(\"contains 'l' at index 2 from end\",Collective.#31,Bool[false,false,false,true,true,false,true],0.0095657)\n",
       " Collective.FeatureResult(\"contains 'l' at index 8\",Collective.#30,Bool[false,false,false,false,true,false,true],0.00987603)       \n",
       " Collective.FeatureResult(\"has 4 reverse alphabetical bigrams\",Collective.#46,Bool[true,true,false,false,true,true,true],0.011867) "
      ]
     },
     "execution_count": 264,
     "metadata": {},
     "output_type": "execute_result"
    }
   ],
   "source": [
    "sort(Collective.analyze(corpus, [\"levitate\", \"inanimate\", \"sizes\", \"lightly\", \"crocodile\", \"legislator\", \"carousels\"]))[1:5]"
   ]
  },
  {
   "cell_type": "code",
   "execution_count": 122,
   "metadata": {
    "collapsed": false
   },
   "outputs": [
    {
     "data": {
      "text/plain": [
       "5-element Array{Collective.FeatureResult,1}:\n",
       " Collective.FeatureResult(\"contains m\",Bool[true,true,true,true,true,true,true],0.000187263)                        \n",
       " Collective.FeatureResult(\"contains t at index 1\",Bool[true,false,true,false,false,true,false],0.00981769)          \n",
       " Collective.FeatureResult(\"contains h at index 9 from end\",Bool[true,false,false,false,false,false,true],0.0184008) \n",
       " Collective.FeatureResult(\"contains n at index 2 from end\",Bool[false,false,true,false,false,true,true],0.0252534)  \n",
       " Collective.FeatureResult(\"contains t at index 10 from end\",Bool[true,false,false,false,false,true,false],0.0285695)"
      ]
     },
     "execution_count": 122,
     "metadata": {},
     "output_type": "execute_result"
    }
   ],
   "source": [
    "sort(Collective.analyze(corpus, [\"thumbtacks\", \"monologue\", \"testimony\", \"camel\", \"meteorology\", \"trampoline\", \"achievement\"]))[1:5]"
   ]
  },
  {
   "cell_type": "code",
   "execution_count": 123,
   "metadata": {
    "collapsed": false
   },
   "outputs": [
    {
     "data": {
      "text/plain": [
       "BenchmarkTools.Trial: \n",
       "  memory estimate:  3.30 kb\n",
       "  allocs estimate:  44\n",
       "  --------------\n",
       "  minimum time:     15.567 μs (0.00% GC)\n",
       "  median time:      16.500 μs (0.00% GC)\n",
       "  mean time:        19.378 μs (2.30% GC)\n",
       "  maximum time:     4.539 ms (98.04% GC)\n",
       "  --------------\n",
       "  samples:          10000\n",
       "  evals/sample:     1\n",
       "  time tolerance:   5.00%\n",
       "  memory tolerance: 1.00%"
      ]
     },
     "execution_count": 123,
     "metadata": {},
     "output_type": "execute_result"
    }
   ],
   "source": [
    "word = \"hello\"\n",
    "@benchmark $fset.evaluate($word)"
   ]
  },
  {
   "cell_type": "code",
   "execution_count": null,
   "metadata": {
    "collapsed": true
   },
   "outputs": [],
   "source": []
  }
 ],
 "metadata": {
  "kernelspec": {
   "display_name": "Julia 0.5.0",
   "language": "julia",
   "name": "julia-0.5"
  },
  "language_info": {
   "file_extension": ".jl",
   "mimetype": "application/julia",
   "name": "julia",
   "version": "0.5.0"
  }
 },
 "nbformat": 4,
 "nbformat_minor": 2
}
