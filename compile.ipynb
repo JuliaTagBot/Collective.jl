{
 "cells": [
  {
   "cell_type": "code",
   "execution_count": 124,
   "metadata": {
    "collapsed": true
   },
   "outputs": [],
   "source": [
    "using BenchmarkTools"
   ]
  },
  {
   "cell_type": "code",
   "execution_count": 125,
   "metadata": {
    "collapsed": false,
    "scrolled": true
   },
   "outputs": [],
   "source": [
    "import Collective\n",
    "import PuzzleTools"
   ]
  },
  {
   "cell_type": "code",
   "execution_count": 126,
   "metadata": {
    "collapsed": false
   },
   "outputs": [
    {
     "data": {
      "text/plain": [
       "23589-element Array{String,1}:\n",
       " \"a\"               \n",
       " \"aaronic\"         \n",
       " \"abaca\"           \n",
       " \"abaction\"        \n",
       " \"abalienate\"      \n",
       " \"abandoner\"       \n",
       " \"abas\"            \n",
       " \"abashedly\"       \n",
       " \"abatable\"        \n",
       " \"abature\"         \n",
       " \"abbas\"           \n",
       " \"abbot\"           \n",
       " \"abby\"            \n",
       " ⋮                 \n",
       " \"zygodactylic\"    \n",
       " \"zygomaticofacial\"\n",
       " \"zygomorphic\"     \n",
       " \"zygophyceae\"     \n",
       " \"zygopterid\"      \n",
       " \"zygosphene\"      \n",
       " \"zygote\"          \n",
       " \"zymic\"           \n",
       " \"zymological\"     \n",
       " \"zymophoric\"      \n",
       " \"zymotechnical\"   \n",
       " \"zyryan\"          "
      ]
     },
     "execution_count": 126,
     "metadata": {},
     "output_type": "execute_result"
    }
   ],
   "source": [
    "words = PuzzleTools.Wordsets.unixwords()[1:10:end]"
   ]
  },
  {
   "cell_type": "code",
   "execution_count": 136,
   "metadata": {
    "collapsed": false
   },
   "outputs": [
    {
     "name": "stderr",
     "output_type": "stream",
     "text": [
      "INFO: Recompiling stale cache file /Users/rdeits/.julia/lib/v0.5/Collective.ji for module Collective.\n",
      "WARNING: replacing module Collective.\n"
     ]
    }
   ],
   "source": [
    "reload(\"Collective\")"
   ]
  },
  {
   "cell_type": "code",
   "execution_count": 137,
   "metadata": {
    "collapsed": false
   },
   "outputs": [
    {
     "data": {
      "text/plain": [
       "Collective.Corpus(Collective.FeatureSet{Collective.##17#18}(Collective.Feature[Collective.Feature(:(scrabble_score(word) == j),Tuple{Symbol,Expr}[(:j,:(1:26))],26,:(\"scrabble score $(j)\")),Collective.Feature(:(c in word),Tuple{Symbol,Expr}[(:c,:('a':'z'))],26,:(\"contains $(c)\")),Collective.Feature(:(length(word) >= j && word[j] == c),Tuple{Symbol,Expr}[(:c,:('a':'z')),(:j,:(1:26))],676,:(\"contains $(c) at index $(j)\")),Collective.Feature(:(length(word) >= j && word[(end - j) + 1] == c),Tuple{Symbol,Expr}[(:c,:('a':'z')),(:j,:(1:26))],676,:(\"contains $(c) at index $(j) from end\")),Collective.Feature(:(num_unique_vowels(word) == j),Tuple{Symbol,Expr}[(:j,:(1:5))],5,:(\"$(j) unique vowels\")),Collective.Feature(:(num_unique_consonants(word) == j),Tuple{Symbol,Expr}[(:j,:(1:21))],21,:(\"$(j) unique consonants\")),Collective.Feature(:(num_unique_letters(word) == j),Tuple{Symbol,Expr}[(:j,:(1:26))],26,:(\"$(j) unique letters\")),Collective.Feature(:(alternates_consonant_vowel(word)),Tuple{Symbol,Expr}[],1,:($(Expr(:quote, \"alternates consonant vowel\")))),Collective.Feature(:(contains_double_letter(word)),Tuple{Symbol,Expr}[],1,:($(Expr(:quote, \"contains double letter\")))),Collective.Feature(:(contains_repeated_letter(word)),Tuple{Symbol,Expr}[],1,:($(Expr(:quote, \"contains repeated letter\"))))],Collective.#17,Function[Collective.#20,Collective.#20,Collective.#20,Collective.#20,Collective.#20,Collective.#20,Collective.#20,Collective.#20,Collective.#20,Collective.#20  …  Collective.#26,Collective.#26,Collective.#26,Collective.#26,Collective.#26,Collective.#26,Collective.#26,Collective.#27,Collective.#28,Collective.#29],String[\"scrabble score 1\",\"scrabble score 2\",\"scrabble score 3\",\"scrabble score 4\",\"scrabble score 5\",\"scrabble score 6\",\"scrabble score 7\",\"scrabble score 8\",\"scrabble score 9\",\"scrabble score 10\"  …  \"20 unique letters\",\"21 unique letters\",\"22 unique letters\",\"23 unique letters\",\"24 unique letters\",\"25 unique letters\",\"26 unique letters\",\"alternates consonant vowel\",\"contains double letter\",\"contains repeated letter\"]),[0.000211963,0.000339141,0.00080546,0.00368816,0.00665564,0.0134809,0.021705,0.0315401,0.0420111,0.0503201  …  0.0,0.0,0.0,0.0,0.0,0.0,0.0,0.0728306,0.215355,0.829115])"
      ]
     },
     "execution_count": 137,
     "metadata": {},
     "output_type": "execute_result"
    }
   ],
   "source": [
    "corpus = Collective.Corpus(words)"
   ]
  },
  {
   "cell_type": "code",
   "execution_count": 138,
   "metadata": {
    "collapsed": false
   },
   "outputs": [
    {
     "data": {
      "text/plain": [
       "5-element Array{Collective.FeatureResult,1}:\n",
       " Collective.FeatureResult(\"alternates consonant vowel\",Collective.#27,Bool[true,true,true,true,true,true,true],2.17383e-8)\n",
       " Collective.FeatureResult(\"scrabble score 11\",Collective.#20,Bool[true,true,true,true,false,false,false],0.000748747)     \n",
       " Collective.FeatureResult(\"contains l at index 1\",Collective.#22,Bool[true,true,false,false,true,false,false],0.00122434) \n",
       " Collective.FeatureResult(\"contains v at index 3\",Collective.#22,Bool[false,true,false,false,true,false,false],0.00503004)\n",
       " Collective.FeatureResult(\"contains e at index 4\",Collective.#22,Bool[true,false,false,false,true,true,true],0.00720033)  "
      ]
     },
     "execution_count": 138,
     "metadata": {},
     "output_type": "execute_result"
    }
   ],
   "source": [
    "sort(Collective.analyze(corpus, [\"lowered\", \"levitate\", \"inanimate\", \"paradise\", \"leveraged\", \"sizes\", \"tuxedo\"]))[1:5]"
   ]
  },
  {
   "cell_type": "code",
   "execution_count": 139,
   "metadata": {
    "collapsed": false
   },
   "outputs": [
    {
     "data": {
      "text/plain": [
       "Collective.FeatureResult(\"scrabble score 11\",Collective.#20,Bool[true,true,true,true,false,false,false],0.0007487467434790484)"
      ]
     },
     "execution_count": 139,
     "metadata": {},
     "output_type": "execute_result"
    }
   ],
   "source": [
    "f = sort(Collective.analyze(corpus, [\"lowered\", \"levitate\", \"inanimate\", \"paradise\", \"leveraged\", \"sizes\", \"tuxedo\"]))[2]"
   ]
  },
  {
   "cell_type": "code",
   "execution_count": 141,
   "metadata": {
    "collapsed": false
   },
   "outputs": [
    {
     "data": {
      "text/html": [
       "true"
      ],
      "text/plain": [
       "true"
      ]
     },
     "execution_count": 141,
     "metadata": {},
     "output_type": "execute_result"
    }
   ],
   "source": [
    "f.evaluator.([\"lowered\", \"levitate\", \"inanimate\", \"paradise\", \"leveraged\", \"sizes\", \"tuxedo\"]) == f.satisfied"
   ]
  },
  {
   "cell_type": "code",
   "execution_count": 118,
   "metadata": {
    "collapsed": false
   },
   "outputs": [
    {
     "data": {
      "text/plain": [
       "5-element Array{Collective.FeatureResult,1}:\n",
       " Collective.FeatureResult(\"scrabble score 14\",Bool[true,true,true,true,true,true,true],2.31957e-8)                  \n",
       " Collective.FeatureResult(\"contains l at index 1\",Bool[true,false,false,true,true,false,false],0.00122434)          \n",
       " Collective.FeatureResult(\"alternates consonant vowel\",Bool[true,true,true,false,false,false,false],0.0216294)      \n",
       " Collective.FeatureResult(\"contains x at index 4 from end\",Bool[false,false,true,false,false,false,false],0.0259682)\n",
       " Collective.FeatureResult(\"contains a\",Bool[true,false,false,false,false,false,false],0.0290618)                    "
      ]
     },
     "execution_count": 118,
     "metadata": {},
     "output_type": "execute_result"
    }
   ],
   "source": [
    "sort(Collective.analyze(corpus, [\"leveraged\", \"sizes\", \"tuxedo\", \"lynx\", \"lightly\", \"crocodile\", \"triumph\"]))[1:5]"
   ]
  },
  {
   "cell_type": "code",
   "execution_count": 119,
   "metadata": {
    "collapsed": false
   },
   "outputs": [
    {
     "data": {
      "text/plain": [
       "5-element Array{Collective.FeatureResult,1}:\n",
       " Collective.FeatureResult(\"contains l at index 1\",Bool[true,true,true,true,true,true,true],1.91698e-11)            \n",
       " Collective.FeatureResult(\"scrabble score 11\",Bool[true,true,false,false,false,true,true],0.000748747)             \n",
       " Collective.FeatureResult(\"contains l at index 7 from end\",Bool[true,false,false,false,true,true,false],0.00434688)\n",
       " Collective.FeatureResult(\"contains v at index 3\",Bool[false,true,true,false,false,false,false],0.00503004)        \n",
       " Collective.FeatureResult(\"contains l\",Bool[true,true,true,true,true,true,true],0.00745345)                        "
      ]
     },
     "execution_count": 119,
     "metadata": {},
     "output_type": "execute_result"
    }
   ],
   "source": [
    "sort(Collective.analyze(corpus, [\"lowered\", \"levitate\", \"leveraged\", \"lynx\", \"lightly\", \"lengths\", \"legislator\"]))[1:5]"
   ]
  },
  {
   "cell_type": "code",
   "execution_count": 120,
   "metadata": {
    "collapsed": false
   },
   "outputs": [
    {
     "data": {
      "text/plain": [
       "5-element Array{Collective.FeatureResult,1}:\n",
       " Collective.FeatureResult(\"5 unique vowels\",Bool[true,true,true,true,true,true,true],1.40769e-9)         \n",
       " Collective.FeatureResult(\"10 unique letters\",Bool[false,true,true,true,true,true,false],0.000315776)    \n",
       " Collective.FeatureResult(\"contains u\",Bool[true,true,true,true,true,true,true],0.000702324)             \n",
       " Collective.FeatureResult(\"contains u at index 5\",Bool[false,false,true,false,true,true,false],0.0019962)\n",
       " Collective.FeatureResult(\"contains q\",Bool[true,false,false,false,false,false,true],0.00975392)         "
      ]
     },
     "execution_count": 120,
     "metadata": {},
     "output_type": "execute_result"
    }
   ],
   "source": [
    "sort(Collective.analyze(corpus, [\"questionable\", \"businesswoman\", \"exhaustion\", \"discouraged\", \"communicated\", \"hallucinogen\", \"sequoia\"]))[1:5]"
   ]
  },
  {
   "cell_type": "code",
   "execution_count": 121,
   "metadata": {
    "collapsed": false
   },
   "outputs": [
    {
     "data": {
      "text/plain": [
       "5-element Array{Collective.FeatureResult,1}:\n",
       " Collective.FeatureResult(\"contains a at index 4 from end\",Bool[true,true,true,true,true,true,true],2.13491e-7)      \n",
       " Collective.FeatureResult(\"contains m at index 4\",Bool[true,true,false,false,true,false,false],0.00185169)           \n",
       " Collective.FeatureResult(\"contains s at index 9 from end\",Bool[false,false,true,true,false,false,true],0.00309857)  \n",
       " Collective.FeatureResult(\"5 unique vowels\",Bool[false,false,true,true,true,false,false],0.00720193)                 \n",
       " Collective.FeatureResult(\"contains q at index 12 from end\",Bool[false,false,true,false,false,false,false],0.0100677)"
      ]
     },
     "execution_count": 121,
     "metadata": {},
     "output_type": "execute_result"
    }
   ],
   "source": [
    "sort(Collective.analyze(corpus, [\"grimaced\", \"formally\", \"questionable\", \"discouraged\", \"communicated\", \"chrysalis\", \"saccharin\"]))[1:5]"
   ]
  },
  {
   "cell_type": "code",
   "execution_count": 122,
   "metadata": {
    "collapsed": false
   },
   "outputs": [
    {
     "data": {
      "text/plain": [
       "5-element Array{Collective.FeatureResult,1}:\n",
       " Collective.FeatureResult(\"contains m\",Bool[true,true,true,true,true,true,true],0.000187263)                        \n",
       " Collective.FeatureResult(\"contains t at index 1\",Bool[true,false,true,false,false,true,false],0.00981769)          \n",
       " Collective.FeatureResult(\"contains h at index 9 from end\",Bool[true,false,false,false,false,false,true],0.0184008) \n",
       " Collective.FeatureResult(\"contains n at index 2 from end\",Bool[false,false,true,false,false,true,true],0.0252534)  \n",
       " Collective.FeatureResult(\"contains t at index 10 from end\",Bool[true,false,false,false,false,true,false],0.0285695)"
      ]
     },
     "execution_count": 122,
     "metadata": {},
     "output_type": "execute_result"
    }
   ],
   "source": [
    "sort(Collective.analyze(corpus, [\"thumbtacks\", \"monologue\", \"testimony\", \"camel\", \"meteorology\", \"trampoline\", \"achievement\"]))[1:5]"
   ]
  },
  {
   "cell_type": "code",
   "execution_count": 123,
   "metadata": {
    "collapsed": false
   },
   "outputs": [
    {
     "data": {
      "text/plain": [
       "BenchmarkTools.Trial: \n",
       "  memory estimate:  3.30 kb\n",
       "  allocs estimate:  44\n",
       "  --------------\n",
       "  minimum time:     15.567 μs (0.00% GC)\n",
       "  median time:      16.500 μs (0.00% GC)\n",
       "  mean time:        19.378 μs (2.30% GC)\n",
       "  maximum time:     4.539 ms (98.04% GC)\n",
       "  --------------\n",
       "  samples:          10000\n",
       "  evals/sample:     1\n",
       "  time tolerance:   5.00%\n",
       "  memory tolerance: 1.00%"
      ]
     },
     "execution_count": 123,
     "metadata": {},
     "output_type": "execute_result"
    }
   ],
   "source": [
    "word = \"hello\"\n",
    "@benchmark $fset.evaluate($word)"
   ]
  },
  {
   "cell_type": "code",
   "execution_count": null,
   "metadata": {
    "collapsed": true
   },
   "outputs": [],
   "source": []
  }
 ],
 "metadata": {
  "kernelspec": {
   "display_name": "Julia 0.5.0",
   "language": "julia",
   "name": "julia-0.5"
  },
  "language_info": {
   "file_extension": ".jl",
   "mimetype": "application/julia",
   "name": "julia",
   "version": "0.5.0"
  }
 },
 "nbformat": 4,
 "nbformat_minor": 2
}
