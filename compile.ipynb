{
 "cells": [
  {
   "cell_type": "code",
   "execution_count": 124,
   "metadata": {
    "collapsed": true
   },
   "outputs": [],
   "source": [
    "using BenchmarkTools"
   ]
  },
  {
   "cell_type": "code",
   "execution_count": 125,
   "metadata": {
    "collapsed": false,
    "scrolled": true
   },
   "outputs": [],
   "source": [
    "import Collective\n",
    "import PuzzleTools"
   ]
  },
  {
   "cell_type": "code",
   "execution_count": 198,
   "metadata": {
    "collapsed": false
   },
   "outputs": [],
   "source": [
    "words = lowercase.(strip.(split(readstring(\"data/113809of.fic\"))));"
   ]
  },
  {
   "cell_type": "code",
   "execution_count": 324,
   "metadata": {
    "collapsed": false
   },
   "outputs": [
    {
     "name": "stderr",
     "output_type": "stream",
     "text": [
      "INFO: Recompiling stale cache file /Users/rdeits/.julia/lib/v0.5/Collective.ji for module Collective.\n",
      "WARNING: replacing module Collective.\n"
     ]
    }
   ],
   "source": [
    "reload(\"Collective\")"
   ]
  },
  {
   "cell_type": "code",
   "execution_count": 325,
   "metadata": {
    "collapsed": false
   },
   "outputs": [],
   "source": [
    "corpus = Collective.Corpus(words[1:Int(round(length(words) / 10000)):end]);"
   ]
  },
  {
   "cell_type": "code",
   "execution_count": 312,
   "metadata": {
    "collapsed": false
   },
   "outputs": [
    {
     "data": {
      "text/plain": [
       "468638-element Array{String,1}:\n",
       " \"a\"            \n",
       " \"aa\"           \n",
       " \"Aachen\"       \n",
       " \"aardvark\"     \n",
       " \"aardvarks\"    \n",
       " \"aardwolf\"     \n",
       " \"aardwolves\"   \n",
       " \"Aarhus\"       \n",
       " \"Aaron\"        \n",
       " \"Aaronic\"      \n",
       " \"Aaronical\"    \n",
       " \"Aaron's beard\"\n",
       " \"Aaron's rod\"  \n",
       " ⋮              \n",
       " \"\"             \n",
       " \"\"             \n",
       " \"\"             \n",
       " \"\"             \n",
       " \"\"             \n",
       " \"\"             \n",
       " \"\"             \n",
       " \"\"             \n",
       " \"\"             \n",
       " \"\"             \n",
       " \"\"             \n",
       " \"\"             "
      ]
     },
     "execution_count": 312,
     "metadata": {},
     "output_type": "execute_result"
    }
   ],
   "source": [
    "ukacd_fake = vec(readdlm(\"/Users/rdeits/Downloads/UKACD.txt\", ':', String))"
   ]
  },
  {
   "cell_type": "code",
   "execution_count": 314,
   "metadata": {
    "collapsed": false
   },
   "outputs": [
    {
     "data": {
      "text/plain": [
       "500706-element Array{String,1}:\n",
       " \"a\"            \n",
       " \"aa\"           \n",
       " \"Aachen\"       \n",
       " \"aardvark\"     \n",
       " \"aardvarks\"    \n",
       " \"aardwolf\"     \n",
       " \"aardwolves\"   \n",
       " \"Aarhus\"       \n",
       " \"Aaron\"        \n",
       " \"Aaronic\"      \n",
       " \"Aaronical\"    \n",
       " \"Aaron's beard\"\n",
       " \"Aaron's rod\"  \n",
       " ⋮              \n",
       " \"\"             \n",
       " \"\"             \n",
       " \"\"             \n",
       " \"\"             \n",
       " \"\"             \n",
       " \"\"             \n",
       " \"\"             \n",
       " \"\"             \n",
       " \"\"             \n",
       " \"\"             \n",
       " \"\"             \n",
       " \"\"             "
      ]
     },
     "execution_count": 314,
     "metadata": {},
     "output_type": "execute_result"
    }
   ],
   "source": [
    "ukacd_real = vec(readdlm(\"/Users/rdeits/Projects/PuzzleTools.jl/data/UKACD.txt\", ':', String))"
   ]
  },
  {
   "cell_type": "code",
   "execution_count": 316,
   "metadata": {
    "collapsed": false
   },
   "outputs": [
    {
     "data": {
      "text/plain": [
       "16034-element Array{String,1}:\n",
       " \"abaft\"                                      \n",
       " \"Ab Fab\"                                     \n",
       " \"a bit off\"                                  \n",
       " \"a bit of fluff\"                             \n",
       " \"A bout de souffle\"                          \n",
       " \"about-face\"                                 \n",
       " \"about-faced\"                                \n",
       " \"about-faces\"                                \n",
       " \"about-facing\"                               \n",
       " \"Absolutely Fabulous\"                        \n",
       " \"Academy of Motion Picture Arts and Sciences\"\n",
       " \"a capful of wind\"                           \n",
       " \"acesulfame K\"                               \n",
       " ⋮                                            \n",
       " \"zinkifying\"                                 \n",
       " \"Zoffany\"                                    \n",
       " \"zombified\"                                  \n",
       " \"zombifies\"                                  \n",
       " \"zombify\"                                    \n",
       " \"zombifying\"                                 \n",
       " \"zuffoli\"                                    \n",
       " \"zuffolo\"                                    \n",
       " \"zufoli\"                                     \n",
       " \"zufolo\"                                     \n",
       " \"zurf\"                                       \n",
       " \"zurfs\"                                      "
      ]
     },
     "execution_count": 316,
     "metadata": {},
     "output_type": "execute_result"
    }
   ],
   "source": [
    "missing = setdiff(ukacd_real, ukacd_fake)"
   ]
  },
  {
   "cell_type": "code",
   "execution_count": 341,
   "metadata": {
    "collapsed": false
   },
   "outputs": [
    {
     "name": "stdout",
     "output_type": "stream",
     "text": [
      "String[\"hip-flask\",\"infamise\",\"facade\",\"furnaced\",\"ill fame\",\"loofah\",\"odoriferously\",\"focalisation\",\"deceitful\",\"modify\",\"defoliate\",\"definabilities\",\"exemplification\",\"unfeminine\",\"icefield\",\"boastfulness\",\"cuttlefishes\",\"zinckification\",\"folkland\",\"unfeeling\",\"flanges\",\"have a short fuse\",\"pelletifying\",\"fable\",\"efts\",\"state of play\",\"fangled\",\"fitchews\",\"fasciated\",\"soulful\",\"flaunchings\",\"rust-proofing\",\"Mustafa\",\"carfuffle\",\"far-out\",\"goff\",\"quinquefoliate\",\"usufruct\",\"denazified\",\"thoughtfulness\",\"pacificists\",\"calves'-foot jelly\",\"field of view\",\"sweet flag\",\"fandangos\",\"sail-fish\",\"Cadfael\",\"fag\",\"The Return of the Native\",\"gold-foil\",\"feldspathoid\",\"caftan\",\"road-fund licence\",\"purfling\",\"febrifugal\",\"fish eagle\",\"old-fogey\",\"heffalump\",\"confutation\",\"flimping\",\"sell-off\",\"defuzed\",\"battle fatigue\",\"effluences\",\"chaudfroid\",\"flavorous\",\"floury\",\"elf\",\"fusses\",\"dog-faced\",\"felt\",\"law of excluded middle\",\"Schottky effect\",\"faddy\",\"superficializes\",\"tuner amplifiers\",\"off-plan\",\"counter-flory\",\"unselfishness\",\"sound effects\",\"Fawkes\",\"Mafikeng\",\"Laffer curve\",\"felines\",\"foundering\",\"fixed assets\",\"foins\",\"flatlets\",\"dog-fights\",\"lift-off\",\"Fluellen\",\"pouf\",\"suffused\",\"Aesop's Fables\",\"manful\",\"falsifying\",\"kifs\",\"custard coffin\",\"officials\",\"vote of no confidence\"]\n"
     ]
    }
   ],
   "source": [
    "missing_words = shuffle(missing)[1:100]\n",
    "println(missing_words)"
   ]
  },
  {
   "cell_type": "code",
   "execution_count": 342,
   "metadata": {
    "collapsed": false
   },
   "outputs": [
    {
     "data": {
      "text/plain": [
       "3-element Array{Collective.FeatureResult,1}:\n",
       " Collective.FeatureResult(\"contains 'f'\",Collective.#41,Bool[true,true,true,true,true,true,true,true,true,true  …  true,true,true,true,true,true,true,true,true,true],NaN)                               \n",
       " Collective.FeatureResult(\"has at least 1 alphabetical bigrams\",Collective.#60,Bool[true,true,true,true,true,true,true,true,true,true  …  true,true,true,true,true,true,true,true,true,true],NaN)        \n",
       " Collective.FeatureResult(\"has at least 1 reverse alphabetical bigrams\",Collective.#62,Bool[true,true,true,true,true,true,true,true,true,true  …  true,true,true,true,true,true,true,true,true,true],NaN)"
      ]
     },
     "execution_count": 342,
     "metadata": {},
     "output_type": "execute_result"
    }
   ],
   "source": [
    "Collective.common_features(corpus.features, [replace(word, r\"[^a-zA-Z]\", \"\") for word in missing_words])"
   ]
  },
  {
   "cell_type": "code",
   "execution_count": 326,
   "metadata": {
    "collapsed": false
   },
   "outputs": [
    {
     "data": {
      "text/plain": [
       "1-element Array{Collective.FeatureResult,1}:\n",
       " Collective.FeatureResult(\"contains 'f'\",Collective.#41,Bool[true,true,true,true,true,true,true,true,true,true  …  true,true,true,true,true,true,true,true,true,true],NaN)"
      ]
     },
     "execution_count": 326,
     "metadata": {},
     "output_type": "execute_result"
    }
   ],
   "source": [
    "Collective.common_features(corpus, [replace(lowercase(word), r\"[^a-z]\", \"\") for word in missing])"
   ]
  },
  {
   "cell_type": "code",
   "execution_count": 320,
   "metadata": {
    "collapsed": false
   },
   "outputs": [
    {
     "data": {
      "text/html": [
       "NaN"
      ],
      "text/plain": [
       "NaN"
      ]
     },
     "execution_count": 320,
     "metadata": {},
     "output_type": "execute_result"
    }
   ],
   "source": [
    "NaN"
   ]
  },
  {
   "cell_type": "code",
   "execution_count": null,
   "metadata": {
    "collapsed": true
   },
   "outputs": [],
   "source": []
  }
 ],
 "metadata": {
  "kernelspec": {
   "display_name": "Julia 0.5.0",
   "language": "julia",
   "name": "julia-0.5"
  },
  "language_info": {
   "file_extension": ".jl",
   "mimetype": "application/julia",
   "name": "julia",
   "version": "0.5.0"
  }
 },
 "nbformat": 4,
 "nbformat_minor": 2
}
