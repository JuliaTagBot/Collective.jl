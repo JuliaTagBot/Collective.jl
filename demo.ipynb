{
 "cells": [
  {
   "cell_type": "code",
   "execution_count": 1,
   "metadata": {
    "collapsed": true
   },
   "outputs": [],
   "source": [
    "import PuzzleTools"
   ]
  },
  {
   "cell_type": "code",
   "execution_count": 2,
   "metadata": {
    "collapsed": false
   },
   "outputs": [],
   "source": [
    "import Collective"
   ]
  },
  {
   "cell_type": "code",
   "execution_count": 3,
   "metadata": {
    "collapsed": true
   },
   "outputs": [],
   "source": [
    "words = PuzzleTools.Wordsets.unixwords()[1:100:end];"
   ]
  },
  {
   "cell_type": "code",
   "execution_count": 16,
   "metadata": {
    "collapsed": false
   },
   "outputs": [
    {
     "name": "stderr",
     "output_type": "stream",
     "text": [
      "WARNING: replacing module Collective\n"
     ]
    }
   ],
   "source": [
    "reload(\"Collective\")"
   ]
  },
  {
   "cell_type": "code",
   "execution_count": 17,
   "metadata": {
    "collapsed": false
   },
   "outputs": [
    {
     "data": {
      "text/plain": [
       "Collective.Corpus(Collective.Feature[Collective.ContainsLetter('a'),Collective.ContainsLetter('b'),Collective.ContainsLetter('c'),Collective.ContainsLetter('d'),Collective.ContainsLetter('e'),Collective.ContainsLetter('f'),Collective.ContainsLetter('g'),Collective.ContainsLetter('h'),Collective.ContainsLetter('i'),Collective.ContainsLetter('j')  …  Collective.ScrabbleScore(21),Collective.ScrabbleScore(22),Collective.ScrabbleScore(23),Collective.ScrabbleScore(24),Collective.ScrabbleScore(25),Collective.ScrabbleScore(26),Collective.ScrabbleScore(27),Collective.ScrabbleScore(28),Collective.ScrabbleScore(29),Collective.ScrabbleScore(30)],[0.615515,0.160237,0.365833,0.267062,0.672319,0.0962272,0.174226,0.234421,0.615515,0.0135651  …  0.0360322,0.0296736,0.0254345,0.0216193,0.0131412,0.0101738,0.0127173,0.00720644,0.00635863,0.00423908])"
      ]
     },
     "execution_count": 17,
     "metadata": {},
     "output_type": "execute_result"
    }
   ],
   "source": [
    "c = Collective.Corpus(words)"
   ]
  },
  {
   "cell_type": "code",
   "execution_count": 22,
   "metadata": {
    "collapsed": true
   },
   "outputs": [],
   "source": [
    "score_dist = Dict{Int, Int}()\n",
    "for word in words\n",
    "    score = Collective.scrabble_score(word)\n",
    "    score_dist[score] = get(score_dist, score, 0) + 1\n",
    "end"
   ]
  },
  {
   "cell_type": "code",
   "execution_count": 26,
   "metadata": {
    "collapsed": false
   },
   "outputs": [],
   "source": [
    "scores = zeros(maximum(keys(score_dist)))\n",
    "for (score, count) in score_dist\n",
    "    scores[score] = count\n",
    "end"
   ]
  },
  {
   "cell_type": "code",
   "execution_count": 29,
   "metadata": {
    "collapsed": false
   },
   "outputs": [
    {
     "data": {
      "text/plain": [
       "46-element Array{Float64,1}:\n",
       " 0.000423908\n",
       " 0.000423908\n",
       " 0.000847817\n",
       " 0.00593472 \n",
       " 0.0131412  \n",
       " 0.0258584  \n",
       " 0.0517168  \n",
       " 0.0796948  \n",
       " 0.120814   \n",
       " 0.175498   \n",
       " 0.236965   \n",
       " 0.303095   \n",
       " 0.364561   \n",
       " ⋮          \n",
       " 0.995761   \n",
       " 0.997033   \n",
       " 0.997457   \n",
       " 0.998728   \n",
       " 0.998728   \n",
       " 0.999152   \n",
       " 0.999152   \n",
       " 0.999152   \n",
       " 0.999576   \n",
       " 0.999576   \n",
       " 0.999576   \n",
       " 1.0        "
      ]
     },
     "execution_count": 29,
     "metadata": {},
     "output_type": "execute_result"
    }
   ],
   "source": [
    "F = cumsum(scores / sum(scores))"
   ]
  },
  {
   "cell_type": "code",
   "execution_count": 30,
   "metadata": {
    "collapsed": false
   },
   "outputs": [
    {
     "data": {
      "text/plain": [
       "5"
      ]
     },
     "execution_count": 30,
     "metadata": {},
     "output_type": "execute_result"
    }
   ],
   "source": [
    "scores_exp = zeros(46)\n",
    "scores_exp[14] = 5"
   ]
  },
  {
   "cell_type": "code",
   "execution_count": 31,
   "metadata": {
    "collapsed": false
   },
   "outputs": [
    {
     "data": {
      "text/plain": [
       "46-element Array{Float64,1}:\n",
       " 0.0\n",
       " 0.0\n",
       " 0.0\n",
       " 0.0\n",
       " 0.0\n",
       " 0.0\n",
       " 0.0\n",
       " 0.0\n",
       " 0.0\n",
       " 0.0\n",
       " 0.0\n",
       " 0.0\n",
       " 0.0\n",
       " ⋮  \n",
       " 1.0\n",
       " 1.0\n",
       " 1.0\n",
       " 1.0\n",
       " 1.0\n",
       " 1.0\n",
       " 1.0\n",
       " 1.0\n",
       " 1.0\n",
       " 1.0\n",
       " 1.0\n",
       " 1.0"
      ]
     },
     "execution_count": 31,
     "metadata": {},
     "output_type": "execute_result"
    }
   ],
   "source": [
    "Fn = cumsum(scores_exp / sum(scores_exp))"
   ]
  },
  {
   "cell_type": "code",
   "execution_count": 44,
   "metadata": {
    "collapsed": false
   },
   "outputs": [
    {
     "data": {
      "text/plain": [
       "(::#11) (generic function with 1 method)"
      ]
     },
     "execution_count": 44,
     "metadata": {},
     "output_type": "execute_result"
    }
   ],
   "source": [
    "A = (Fn, F, n) -> n * sum((Fn[i] - F[i])^2 / (F[i] * (1 - F[i])) for i in 1:(length(F) - 1))"
   ]
  },
  {
   "cell_type": "code",
   "execution_count": 45,
   "metadata": {
    "collapsed": false
   },
   "outputs": [
    {
     "data": {
      "text/plain": [
       "34.259516512945844"
      ]
     },
     "execution_count": 45,
     "metadata": {},
     "output_type": "execute_result"
    }
   ],
   "source": [
    "A(Fn, F, 5)"
   ]
  },
  {
   "cell_type": "code",
   "execution_count": 46,
   "metadata": {
    "collapsed": false
   },
   "outputs": [
    {
     "data": {
      "text/plain": [
       "2.0"
      ]
     },
     "execution_count": 46,
     "metadata": {},
     "output_type": "execute_result"
    }
   ],
   "source": [
    "A([0, 1], [0.5, 1], 2)"
   ]
  },
  {
   "cell_type": "code",
   "execution_count": 21,
   "metadata": {
    "collapsed": false
   },
   "outputs": [
    {
     "data": {
      "text/plain": [
       "10-element Array{Collective.FeatureResult,1}:\n",
       " Collective.FeatureResult(Collective.ScrabbleScore(14),Bool[true,true,true,true,true,true,true],1.00936e-8)            \n",
       " Collective.FeatureResult(Collective.LetterAtIndex('l',1),Bool[true,false,false,true,true,false,false],0.000598249)    \n",
       " Collective.FeatureResult(Collective.LetterAtIndex('z',3),Bool[false,true,false,false,false,false,false],0.00883437)   \n",
       " Collective.FeatureResult(Collective.ContainsLetter('a'),Bool[true,false,false,false,false,false,false],0.0139192)     \n",
       " Collective.FeatureResult(Collective.ContainsLetter('x'),Bool[false,false,true,true,false,false,false],0.0154881)      \n",
       " Collective.FeatureResult(Collective.AlternatesConsonantVowel(),Bool[true,true,true,false,false,false,false],0.0178617)\n",
       " Collective.FeatureResult(Collective.LetterAtIndex('e',4),Bool[true,true,true,false,false,false,false],0.0260784)      \n",
       " Collective.FeatureResult(Collective.LetterAtIndex('x',4),Bool[false,false,false,true,false,false,false],0.0289268)    \n",
       " Collective.FeatureResult(Collective.LetterAtIndex('x',3),Bool[false,false,true,false,false,false,false],0.0373176)    \n",
       " Collective.FeatureResult(Collective.ContainsLetter('n'),Bool[false,false,false,true,false,false,false],0.0444555)     "
      ]
     },
     "execution_count": 21,
     "metadata": {},
     "output_type": "execute_result"
    }
   ],
   "source": [
    "d1s2 = [\"leveraged\", \"sizes\", \"tuxedo\", \"lynx\", \"lightly\", \"crocodile\", \"triumph\"]\n",
    "sort(Collective.analyze(c, d1s2))[1:10]"
   ]
  },
  {
   "cell_type": "code",
   "execution_count": null,
   "metadata": {
    "collapsed": true
   },
   "outputs": [],
   "source": []
  }
 ],
 "metadata": {
  "kernelspec": {
   "display_name": "Julia 0.5.0",
   "language": "julia",
   "name": "julia-0.5"
  },
  "language_info": {
   "file_extension": ".jl",
   "mimetype": "application/julia",
   "name": "julia",
   "version": "0.5.0"
  }
 },
 "nbformat": 4,
 "nbformat_minor": 2
}
