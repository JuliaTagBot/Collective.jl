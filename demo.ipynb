{
 "cells": [
  {
   "cell_type": "code",
   "execution_count": 1,
   "metadata": {
    "collapsed": false
   },
   "outputs": [],
   "source": [
    "import PuzzleTools\n",
    "using BenchmarkTools"
   ]
  },
  {
   "cell_type": "code",
   "execution_count": 2,
   "metadata": {
    "collapsed": false
   },
   "outputs": [],
   "source": [
    "import Collective"
   ]
  },
  {
   "cell_type": "code",
   "execution_count": 3,
   "metadata": {
    "collapsed": true
   },
   "outputs": [],
   "source": [
    "words = PuzzleTools.Wordsets.unixwords()[1:10000:end];"
   ]
  },
  {
   "cell_type": "code",
   "execution_count": 4,
   "metadata": {
    "collapsed": false
   },
   "outputs": [
    {
     "name": "stderr",
     "output_type": "stream",
     "text": [
      "WARNING: replacing module Collective.\n"
     ]
    }
   ],
   "source": [
    "reload(\"Collective\")"
   ]
  },
  {
   "cell_type": "code",
   "execution_count": 4,
   "metadata": {
    "collapsed": false
   },
   "outputs": [
    {
     "data": {
      "text/plain": [
       "BenchmarkTools.Trial: \n",
       "  memory estimate:  3.09 mb\n",
       "  allocs estimate:  95986\n",
       "  --------------\n",
       "  minimum time:     64.656 ms (0.00% GC)\n",
       "  median time:      71.036 ms (0.00% GC)\n",
       "  mean time:        71.428 ms (0.65% GC)\n",
       "  maximum time:     81.322 ms (0.00% GC)\n",
       "  --------------\n",
       "  samples:          70\n",
       "  evals/sample:     1\n",
       "  time tolerance:   5.00%\n",
       "  memory tolerance: 1.00%"
      ]
     },
     "execution_count": 4,
     "metadata": {},
     "output_type": "execute_result"
    }
   ],
   "source": [
    "@benchmark Collective.Corpus(words)"
   ]
  },
  {
   "cell_type": "code",
   "execution_count": 14,
   "metadata": {
    "collapsed": false
   },
   "outputs": [
    {
     "data": {
      "text/plain": [
       "Collective.Corpus(Collective.Feature[Collective.ContainsLetter('a'),Collective.ContainsLetter('b'),Collective.ContainsLetter('c'),Collective.ContainsLetter('d'),Collective.ContainsLetter('e'),Collective.ContainsLetter('f'),Collective.ContainsLetter('g'),Collective.ContainsLetter('h'),Collective.ContainsLetter('i'),Collective.ContainsLetter('j')  …  Collective.NumUniqueLetters(1),Collective.NumUniqueLetters(2),Collective.NumUniqueLetters(3),Collective.NumUniqueLetters(4),Collective.NumUniqueLetters(5),Collective.NumUniqueLetters(6),Collective.NumUniqueLetters(7),Collective.NumUniqueLetters(8),Collective.NumUniqueLetters(9),Collective.NumUniqueLetters(10)],[0.615515,0.160237,0.365833,0.267062,0.672319,0.0962272,0.174226,0.234421,0.615515,0.0135651  …  0.000847817,0.00296736,0.0114455,0.0385757,0.0945316,0.151759,0.207291,0.172107,0.160237,0.103858])"
      ]
     },
     "execution_count": 14,
     "metadata": {},
     "output_type": "execute_result"
    }
   ],
   "source": [
    "c = Collective.Corpus(words)"
   ]
  },
  {
   "cell_type": "code",
   "execution_count": 15,
   "metadata": {
    "collapsed": true
   },
   "outputs": [],
   "source": [
    "score_dist = Dict{Int, Int}()\n",
    "for word in words\n",
    "    score = Collective.scrabble_score(word)\n",
    "    score_dist[score] = get(score_dist, score, 0) + 1\n",
    "end"
   ]
  },
  {
   "cell_type": "code",
   "execution_count": 16,
   "metadata": {
    "collapsed": false
   },
   "outputs": [],
   "source": [
    "scores = zeros(maximum(keys(score_dist)))\n",
    "for (score, count) in score_dist\n",
    "    scores[score] = count\n",
    "end"
   ]
  },
  {
   "cell_type": "code",
   "execution_count": 17,
   "metadata": {
    "collapsed": false
   },
   "outputs": [
    {
     "data": {
      "text/plain": [
       "46-element Array{Float64,1}:\n",
       " 0.000423908\n",
       " 0.000423908\n",
       " 0.000847817\n",
       " 0.00593472 \n",
       " 0.0131412  \n",
       " 0.0258584  \n",
       " 0.0517168  \n",
       " 0.0796948  \n",
       " 0.120814   \n",
       " 0.175498   \n",
       " 0.236965   \n",
       " 0.303095   \n",
       " 0.364561   \n",
       " ⋮          \n",
       " 0.995761   \n",
       " 0.997033   \n",
       " 0.997457   \n",
       " 0.998728   \n",
       " 0.998728   \n",
       " 0.999152   \n",
       " 0.999152   \n",
       " 0.999152   \n",
       " 0.999576   \n",
       " 0.999576   \n",
       " 0.999576   \n",
       " 1.0        "
      ]
     },
     "execution_count": 17,
     "metadata": {},
     "output_type": "execute_result"
    }
   ],
   "source": [
    "F = cumsum(scores / sum(scores))"
   ]
  },
  {
   "cell_type": "code",
   "execution_count": 18,
   "metadata": {
    "collapsed": false
   },
   "outputs": [
    {
     "data": {
      "text/html": [
       "5"
      ],
      "text/plain": [
       "5"
      ]
     },
     "execution_count": 18,
     "metadata": {},
     "output_type": "execute_result"
    }
   ],
   "source": [
    "scores_exp = zeros(46)\n",
    "scores_exp[14] = 5"
   ]
  },
  {
   "cell_type": "code",
   "execution_count": 19,
   "metadata": {
    "collapsed": false
   },
   "outputs": [
    {
     "data": {
      "text/plain": [
       "46-element Array{Float64,1}:\n",
       " 0.0\n",
       " 0.0\n",
       " 0.0\n",
       " 0.0\n",
       " 0.0\n",
       " 0.0\n",
       " 0.0\n",
       " 0.0\n",
       " 0.0\n",
       " 0.0\n",
       " 0.0\n",
       " 0.0\n",
       " 0.0\n",
       " ⋮  \n",
       " 1.0\n",
       " 1.0\n",
       " 1.0\n",
       " 1.0\n",
       " 1.0\n",
       " 1.0\n",
       " 1.0\n",
       " 1.0\n",
       " 1.0\n",
       " 1.0\n",
       " 1.0\n",
       " 1.0"
      ]
     },
     "execution_count": 19,
     "metadata": {},
     "output_type": "execute_result"
    }
   ],
   "source": [
    "Fn = cumsum(scores_exp / sum(scores_exp))"
   ]
  },
  {
   "cell_type": "code",
   "execution_count": 34,
   "metadata": {
    "collapsed": false
   },
   "outputs": [
    {
     "data": {
      "text/plain": [
       "46-element Array{Float64,1}:\n",
       "   1.0\n",
       "   0.0\n",
       "   1.0\n",
       "  12.0\n",
       "  17.0\n",
       "  30.0\n",
       "  61.0\n",
       "  66.0\n",
       "  97.0\n",
       " 129.0\n",
       " 145.0\n",
       " 156.0\n",
       " 145.0\n",
       "   ⋮  \n",
       "   3.0\n",
       "   3.0\n",
       "   1.0\n",
       "   3.0\n",
       "   0.0\n",
       "   1.0\n",
       "   0.0\n",
       "   0.0\n",
       "   1.0\n",
       "   0.0\n",
       "   0.0\n",
       "   1.0"
      ]
     },
     "execution_count": 34,
     "metadata": {},
     "output_type": "execute_result"
    }
   ],
   "source": [
    "scores"
   ]
  },
  {
   "cell_type": "code",
   "execution_count": 37,
   "metadata": {
    "collapsed": false
   },
   "outputs": [
    {
     "data": {
      "text/plain": [
       "46-element Array{Float64,1}:\n",
       " 0.0\n",
       " 0.0\n",
       " 0.0\n",
       " 0.0\n",
       " 0.0\n",
       " 0.0\n",
       " 0.0\n",
       " 0.0\n",
       " 0.0\n",
       " 0.0\n",
       " 0.0\n",
       " 0.0\n",
       " 0.0\n",
       " ⋮  \n",
       " 0.0\n",
       " 0.0\n",
       " 0.0\n",
       " 0.0\n",
       " 0.0\n",
       " 0.0\n",
       " 0.0\n",
       " 0.0\n",
       " 0.0\n",
       " 0.0\n",
       " 0.0\n",
       " 0.0"
      ]
     },
     "execution_count": 37,
     "metadata": {},
     "output_type": "execute_result"
    }
   ],
   "source": [
    "scores_exp"
   ]
  },
  {
   "cell_type": "code",
   "execution_count": 92,
   "metadata": {
    "collapsed": false
   },
   "outputs": [
    {
     "name": "stdout",
     "output_type": "stream",
     "text": [
      "search: binomial BinomialTest\n",
      "\n"
     ]
    },
    {
     "data": {
      "text/markdown": [
       "```\n",
       "binomial(n,k)\n",
       "```\n",
       "\n",
       "Number of ways to choose `k` out of `n` items.\n"
      ],
      "text/plain": [
       "```\n",
       "binomial(n,k)\n",
       "```\n",
       "\n",
       "Number of ways to choose `k` out of `n` items.\n"
      ]
     },
     "execution_count": 92,
     "metadata": {},
     "output_type": "execute_result"
    }
   ],
   "source": [
    "?binomial"
   ]
  },
  {
   "cell_type": "code",
   "execution_count": 133,
   "metadata": {
    "collapsed": false
   },
   "outputs": [
    {
     "name": "stderr",
     "output_type": "stream",
     "text": [
      "WARNING: Method definition crossentropy(Any, Any) in module Main at In[132]:22 overwritten at In[133]:2.\n"
     ]
    },
    {
     "data": {
      "text/plain": [
       "crossentropy (generic function with 1 method)"
      ]
     },
     "execution_count": 133,
     "metadata": {},
     "output_type": "execute_result"
    }
   ],
   "source": [
    "crossentropy(p, q) = -sum(p .* log.(q))"
   ]
  },
  {
   "cell_type": "code",
   "execution_count": 134,
   "metadata": {
    "collapsed": false
   },
   "outputs": [
    {
     "data": {
      "text/html": [
       "NaN"
      ],
      "text/plain": [
       "NaN"
      ]
     },
     "execution_count": 134,
     "metadata": {},
     "output_type": "execute_result"
    }
   ],
   "source": [
    "n = 7\n",
    "p = scores / sum(scores)\n",
    "\n",
    "x = zeros(Int, length(p))\n",
    "for i in 1:n\n",
    "    x[Collective.scrabble_score(rand(words))] += 1\n",
    "#     x[14] += 1\n",
    "end\n",
    "\n",
    "slots = 0\n",
    "for i in 1:length(x)\n",
    "    if x[i] <= p[i] * n\n",
    "        slots += x[i]\n",
    "    else\n",
    "        slots += (n - x[i])\n",
    "    end\n",
    "end\n",
    "# correction = binomial(slots, n)\n",
    "        \n",
    "# factorial(n) / (prod(factorial(xi) for xi in x)) * prod(p[i]^x[i] for i in 1:length(p))\n",
    "crossentropy(p, x)"
   ]
  },
  {
   "cell_type": "code",
   "execution_count": null,
   "metadata": {
    "collapsed": true
   },
   "outputs": [],
   "source": []
  },
  {
   "cell_type": "code",
   "execution_count": 130,
   "metadata": {
    "collapsed": false
   },
   "outputs": [
    {
     "ename": "LoadError",
     "evalue": "LoadError: Probabilities must sum to one\nwhile loading In[130], in expression starting on line 1",
     "output_type": "error",
     "traceback": [
      "LoadError: Probabilities must sum to one\nwhile loading In[130], in expression starting on line 1",
      "",
      " in #PowerDivergenceTest#52(::Float64, ::Array{Float64,1}, ::Type{T}, ::Array{Int64,2}) at /Users/rdeits/.julia/v0.5/HypothesisTests/src/power_divergence.jl:230",
      " in (::Core.#kw#Type)(::Array{Any,1}, ::Type{HypothesisTests.PowerDivergenceTest}, ::Array{Int64,2}) at ./<missing>:0",
      " in MultinomialLRT(::Array{Int64,1}, ::Array{Float64,1}) at /Users/rdeits/.julia/v0.5/HypothesisTests/src/power_divergence.jl:305"
     ]
    }
   ],
   "source": [
    "MultinomialLRT([7], [p[14]])"
   ]
  },
  {
   "cell_type": "code",
   "execution_count": 112,
   "metadata": {
    "collapsed": false
   },
   "outputs": [
    {
     "data": {
      "text/plain": [
       "(42,26978328)"
      ]
     },
     "execution_count": 112,
     "metadata": {},
     "output_type": "execute_result"
    }
   ],
   "source": [
    "slots, correction"
   ]
  },
  {
   "cell_type": "code",
   "execution_count": 76,
   "metadata": {
    "collapsed": false
   },
   "outputs": [
    {
     "name": "stderr",
     "output_type": "stream",
     "text": [
      "WARNING: This test is inaccurate with ties\n"
     ]
    },
    {
     "data": {
      "text/html": [
       "0.08423702722876153"
      ],
      "text/plain": [
       "0.08423702722876153"
      ]
     },
     "execution_count": 76,
     "metadata": {},
     "output_type": "execute_result"
    }
   ],
   "source": [
    "pvalue(ApproximateTwoSampleKSTest(Collective.scrabble_score.(words), [14, 14, 14, 14, 14]))"
   ]
  },
  {
   "cell_type": "code",
   "execution_count": 88,
   "metadata": {
    "collapsed": false
   },
   "outputs": [
    {
     "data": {
      "text/html": [
       "0.1042709289859092"
      ],
      "text/plain": [
       "0.1042709289859092"
      ]
     },
     "execution_count": 88,
     "metadata": {},
     "output_type": "execute_result"
    }
   ],
   "source": [
    "pvalue(KSampleADTest(Collective.scrabble_score.(words), 14 * ones(Int, 5)))"
   ]
  },
  {
   "cell_type": "code",
   "execution_count": 23,
   "metadata": {
    "collapsed": false
   },
   "outputs": [
    {
     "name": "stderr",
     "output_type": "stream",
     "text": [
      "WARNING: This test is inaccurate with ties\n"
     ]
    },
    {
     "data": {
      "text/html": [
       "4.297908655846245e-10"
      ],
      "text/plain": [
       "4.297908655846245e-10"
      ]
     },
     "execution_count": 23,
     "metadata": {},
     "output_type": "execute_result"
    }
   ],
   "source": [
    "pvalue(ApproximateTwoSampleKSTest(F, Fn))"
   ]
  },
  {
   "cell_type": "code",
   "execution_count": 30,
   "metadata": {
    "collapsed": false
   },
   "outputs": [
    {
     "data": {
      "text/html": [
       "0.006747097089861135"
      ],
      "text/plain": [
       "0.006747097089861135"
      ]
     },
     "execution_count": 30,
     "metadata": {},
     "output_type": "execute_result"
    }
   ],
   "source": [
    "pvalue(KSampleADTest(vcat(falses(10), trues(10)), [true, true, true, true, true]))"
   ]
  },
  {
   "cell_type": "code",
   "execution_count": 44,
   "metadata": {
    "collapsed": false
   },
   "outputs": [
    {
     "data": {
      "text/plain": [
       "(::#11) (generic function with 1 method)"
      ]
     },
     "execution_count": 44,
     "metadata": {},
     "output_type": "execute_result"
    }
   ],
   "source": [
    "A = (Fn, F, n) -> n * sum((Fn[i] - F[i])^2 / (F[i] * (1 - F[i])) for i in 1:(length(F) - 1))"
   ]
  },
  {
   "cell_type": "code",
   "execution_count": 45,
   "metadata": {
    "collapsed": false
   },
   "outputs": [
    {
     "data": {
      "text/plain": [
       "34.259516512945844"
      ]
     },
     "execution_count": 45,
     "metadata": {},
     "output_type": "execute_result"
    }
   ],
   "source": [
    "A(Fn, F, 5)"
   ]
  },
  {
   "cell_type": "code",
   "execution_count": 46,
   "metadata": {
    "collapsed": false
   },
   "outputs": [
    {
     "data": {
      "text/plain": [
       "2.0"
      ]
     },
     "execution_count": 46,
     "metadata": {},
     "output_type": "execute_result"
    }
   ],
   "source": [
    "A([0, 1], [0.5, 1], 2)"
   ]
  },
  {
   "cell_type": "code",
   "execution_count": 131,
   "metadata": {
    "collapsed": false
   },
   "outputs": [
    {
     "data": {
      "text/plain": [
       "10-element Array{Collective.FeatureResult,1}:\n",
       " Collective.FeatureResult(Collective.ScrabbleScore(14),Bool[true,true,true,true,true,true,true],1.00936e-8)               \n",
       " Collective.FeatureResult(Collective.LetterAtIndex('l',1),Bool[true,false,false,true,true,false,false],0.000598249)       \n",
       " Collective.FeatureResult(Collective.LetterAtIndex('z',3),Bool[false,true,false,false,false,false,false],0.00883437)      \n",
       " Collective.FeatureResult(Collective.ContainsLetter('a'),Bool[true,false,false,false,false,false,false],0.0139192)        \n",
       " Collective.FeatureResult(Collective.LetterAtIndexFromEnd('x',1),Bool[false,false,false,true,false,false,false],0.0146491)\n",
       " Collective.FeatureResult(Collective.ContainsLetter('x'),Bool[false,false,true,true,false,false,false],0.0154881)         \n",
       " Collective.FeatureResult(Collective.LetterAtIndexFromEnd('x',4),Bool[false,false,true,false,false,false,false],0.0175342)\n",
       " Collective.FeatureResult(Collective.AlternatesConsonantVowel(),Bool[true,true,true,false,false,false,false],0.0178617)   \n",
       " Collective.FeatureResult(Collective.NumUniqueLetters(4),Bool[false,true,false,true,false,false,false],0.0256698)         \n",
       " Collective.FeatureResult(Collective.LetterAtIndex('e',4),Bool[true,true,true,false,false,false,false],0.0260784)         "
      ]
     },
     "execution_count": 131,
     "metadata": {},
     "output_type": "execute_result"
    }
   ],
   "source": [
    "d1s2 = [\"leveraged\", \"sizes\", \"tuxedo\", \"lynx\", \"lightly\", \"crocodile\", \"triumph\"]\n",
    "sort(Collective.analyze(c, d1s2))[1:10]"
   ]
  },
  {
   "cell_type": "code",
   "execution_count": 1,
   "metadata": {
    "collapsed": false
   },
   "outputs": [
    {
     "name": "stderr",
     "output_type": "stream",
     "text": [
      "INFO: Precompiling module HypothesisTests.\n"
     ]
    }
   ],
   "source": [
    "using HypothesisTests"
   ]
  },
  {
   "cell_type": "code",
   "execution_count": 6,
   "metadata": {
    "collapsed": false
   },
   "outputs": [
    {
     "data": {
      "text/html": [
       "2.000000000000002e-5"
      ],
      "text/plain": [
       "2.000000000000002e-5"
      ]
     },
     "execution_count": 6,
     "metadata": {},
     "output_type": "execute_result"
    }
   ],
   "source": [
    "t = BinomialTest(5, 5, 0.1)\n",
    "pvalue(t)"
   ]
  },
  {
   "cell_type": "code",
   "execution_count": null,
   "metadata": {
    "collapsed": true
   },
   "outputs": [],
   "source": []
  }
 ],
 "metadata": {
  "kernelspec": {
   "display_name": "Julia 0.5.0",
   "language": "julia",
   "name": "julia-0.5"
  },
  "language_info": {
   "file_extension": ".jl",
   "mimetype": "application/julia",
   "name": "julia",
   "version": "0.5.0"
  }
 },
 "nbformat": 4,
 "nbformat_minor": 2
}
