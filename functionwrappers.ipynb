{
 "cells": [
  {
   "cell_type": "code",
   "execution_count": 43,
   "metadata": {
    "collapsed": false
   },
   "outputs": [
    {
     "name": "stderr",
     "output_type": "stream",
     "text": [
      "INFO: Precompiling module WeakRefStrings.\n"
     ]
    }
   ],
   "source": [
    "using BenchmarkTools\n",
    "using WeakRefStrings"
   ]
  },
  {
   "cell_type": "code",
   "execution_count": 44,
   "metadata": {
    "collapsed": false
   },
   "outputs": [
    {
     "data": {
      "text/plain": [
       "\"hello\""
      ]
     },
     "execution_count": 44,
     "metadata": {},
     "output_type": "execute_result"
    }
   ],
   "source": [
    "s = \"hello\""
   ]
  },
  {
   "cell_type": "code",
   "execution_count": 46,
   "metadata": {
    "collapsed": false
   },
   "outputs": [
    {
     "data": {
      "text/plain": [
       "\"hello\""
      ]
     },
     "execution_count": 46,
     "metadata": {},
     "output_type": "execute_result"
    }
   ],
   "source": [
    "ws = WeakRefString(pointer(s.data), length(s))"
   ]
  },
  {
   "cell_type": "code",
   "execution_count": 48,
   "metadata": {
    "collapsed": true
   },
   "outputs": [],
   "source": [
    "import FunctionWrappers: FunctionWrapper"
   ]
  },
  {
   "cell_type": "code",
   "execution_count": 49,
   "metadata": {
    "collapsed": false
   },
   "outputs": [
    {
     "data": {
      "text/plain": [
       "26-element Array{Function,1}:\n",
       " #998 \n",
       " #1000\n",
       " #1002\n",
       " #1004\n",
       " #1006\n",
       " #1008\n",
       " #1010\n",
       " #1012\n",
       " #1014\n",
       " #1016\n",
       " #1018\n",
       " #1020\n",
       " #1022\n",
       " #1024\n",
       " #1026\n",
       " #1028\n",
       " #1030\n",
       " #1032\n",
       " #1034\n",
       " #1036\n",
       " #1038\n",
       " #1040\n",
       " #1042\n",
       " #1044\n",
       " #1046\n",
       " #1048"
      ]
     },
     "execution_count": 49,
     "metadata": {},
     "output_type": "execute_result"
    }
   ],
   "source": [
    "bare = Function[eval(:(x -> $l in x)) for l in 'a':'z']"
   ]
  },
  {
   "cell_type": "code",
   "execution_count": 50,
   "metadata": {
    "collapsed": false
   },
   "outputs": [
    {
     "data": {
      "text/plain": [
       "BenchmarkTools.Trial: \n",
       "  memory estimate:  160.00 bytes\n",
       "  allocs estimate:  4\n",
       "  --------------\n",
       "  minimum time:     1.957 μs (0.00% GC)\n",
       "  median time:      2.025 μs (0.00% GC)\n",
       "  mean time:        2.117 μs (0.00% GC)\n",
       "  maximum time:     11.427 μs (0.00% GC)\n",
       "  --------------\n",
       "  samples:          10000\n",
       "  evals/sample:     10\n",
       "  time tolerance:   5.00%\n",
       "  memory tolerance: 1.00%"
      ]
     },
     "execution_count": 50,
     "metadata": {},
     "output_type": "execute_result"
    }
   ],
   "source": [
    "@benchmark [b($ws) for b in $bare]"
   ]
  },
  {
   "cell_type": "code",
   "execution_count": 51,
   "metadata": {
    "collapsed": false
   },
   "outputs": [
    {
     "name": "stderr",
     "output_type": "stream",
     "text": [
      "WARNING: Method definition evaluate(Any, Any) in module Main at In[34]:2 overwritten at In[51]:2.\n"
     ]
    },
    {
     "data": {
      "text/plain": [
       "evaluate (generic function with 2 methods)"
      ]
     },
     "execution_count": 51,
     "metadata": {},
     "output_type": "execute_result"
    }
   ],
   "source": [
    "function evaluate(i, list)\n",
    "    x = list[1](i)\n",
    "    for b in list\n",
    "        x += b(i)\n",
    "    end\n",
    "    x\n",
    "end"
   ]
  },
  {
   "cell_type": "code",
   "execution_count": 52,
   "metadata": {
    "collapsed": false
   },
   "outputs": [
    {
     "data": {
      "text/plain": [
       "BenchmarkTools.Trial: \n",
       "  memory estimate:  864.00 bytes\n",
       "  allocs estimate:  27\n",
       "  --------------\n",
       "  minimum time:     2.313 μs (0.00% GC)\n",
       "  median time:      2.396 μs (0.00% GC)\n",
       "  mean time:        2.607 μs (2.42% GC)\n",
       "  maximum time:     225.771 μs (96.26% GC)\n",
       "  --------------\n",
       "  samples:          10000\n",
       "  evals/sample:     9\n",
       "  time tolerance:   5.00%\n",
       "  memory tolerance: 1.00%"
      ]
     },
     "execution_count": 52,
     "metadata": {},
     "output_type": "execute_result"
    }
   ],
   "source": [
    "@benchmark evaluate($ws, $bare)"
   ]
  },
  {
   "cell_type": "code",
   "execution_count": 53,
   "metadata": {
    "collapsed": false
   },
   "outputs": [
    {
     "name": "stdout",
     "output_type": "stream",
     "text": [
      "Variables:\n",
      "  #self#::#evaluate\n",
      "  i::WeakRefStrings.WeakRefString{UInt8}\n",
      "  list::Array{Function,1}\n",
      "  x::ANY\n",
      "  #temp#::Int64\n",
      "  b::F\n",
      "\n",
      "Body:\n",
      "  begin \n",
      "      x::ANY = ((Base.arrayref)(list::Array{Function,1},1)::F)(i::WeakRefStrings.WeakRefString{UInt8})::ANY # line 3:\n",
      "      #temp#::Int64 = $(QuoteNode(1))\n",
      "      4: \n",
      "      unless (Base.box)(Base.Bool,(Base.not_int)((#temp#::Int64 === (Base.box)(Int64,(Base.add_int)((Base.arraylen)(list::Array{Function,1})::Int64,1)))::Bool)) goto 14\n",
      "      SSAValue(2) = (Base.arrayref)(list::Array{Function,1},#temp#::Int64)::F\n",
      "      SSAValue(3) = (Base.box)(Int64,(Base.add_int)(#temp#::Int64,1))\n",
      "      b::F = SSAValue(2)\n",
      "      #temp#::Int64 = SSAValue(3) # line 4:\n",
      "      x::ANY = (x::ANY + (b::F)(i::WeakRefStrings.WeakRefString{UInt8})::ANY)::ANY\n",
      "      12: \n",
      "      goto 4\n",
      "      14:  # line 6:\n",
      "      return x::ANY\n",
      "  end::ANY\n"
     ]
    }
   ],
   "source": [
    "@code_warntype evaluate(ws, bare)"
   ]
  },
  {
   "cell_type": "code",
   "execution_count": 54,
   "metadata": {
    "collapsed": false
   },
   "outputs": [
    {
     "data": {
      "text/plain": [
       "26-element Array{FunctionWrappers.FunctionWrapper{Bool,Tuple{WeakRefString{UInt8}}},1}:\n",
       " FunctionWrappers.FunctionWrapper{Bool,Tuple{WeakRefString{UInt8}}}(Ptr{Void} @0x000000031ad44460,Ptr{Void} @0x000000010939adb0,Base.RefValue{##1054#1055}(#1054),##1054#1055)\n",
       " FunctionWrappers.FunctionWrapper{Bool,Tuple{WeakRefString{UInt8}}}(Ptr{Void} @0x000000031ad44650,Ptr{Void} @0x000000010939adc0,Base.RefValue{##1056#1057}(#1056),##1056#1057)\n",
       " FunctionWrappers.FunctionWrapper{Bool,Tuple{WeakRefString{UInt8}}}(Ptr{Void} @0x000000031ad44840,Ptr{Void} @0x000000010939add0,Base.RefValue{##1058#1059}(#1058),##1058#1059)\n",
       " FunctionWrappers.FunctionWrapper{Bool,Tuple{WeakRefString{UInt8}}}(Ptr{Void} @0x000000031ad44a30,Ptr{Void} @0x000000010939ade8,Base.RefValue{##1060#1061}(#1060),##1060#1061)\n",
       " FunctionWrappers.FunctionWrapper{Bool,Tuple{WeakRefString{UInt8}}}(Ptr{Void} @0x000000031ad44c20,Ptr{Void} @0x000000010939adf8,Base.RefValue{##1062#1063}(#1062),##1062#1063)\n",
       " FunctionWrappers.FunctionWrapper{Bool,Tuple{WeakRefString{UInt8}}}(Ptr{Void} @0x000000031ad44e10,Ptr{Void} @0x000000010939ae10,Base.RefValue{##1064#1065}(#1064),##1064#1065)\n",
       " FunctionWrappers.FunctionWrapper{Bool,Tuple{WeakRefString{UInt8}}}(Ptr{Void} @0x000000031ad45000,Ptr{Void} @0x000000010939ae28,Base.RefValue{##1066#1067}(#1066),##1066#1067)\n",
       " FunctionWrappers.FunctionWrapper{Bool,Tuple{WeakRefString{UInt8}}}(Ptr{Void} @0x000000031ad451f0,Ptr{Void} @0x000000010939ae38,Base.RefValue{##1068#1069}(#1068),##1068#1069)\n",
       " FunctionWrappers.FunctionWrapper{Bool,Tuple{WeakRefString{UInt8}}}(Ptr{Void} @0x000000031ad453e0,Ptr{Void} @0x000000010939ae48,Base.RefValue{##1070#1071}(#1070),##1070#1071)\n",
       " FunctionWrappers.FunctionWrapper{Bool,Tuple{WeakRefString{UInt8}}}(Ptr{Void} @0x000000031ad455d0,Ptr{Void} @0x000000010939ae60,Base.RefValue{##1072#1073}(#1072),##1072#1073)\n",
       " FunctionWrappers.FunctionWrapper{Bool,Tuple{WeakRefString{UInt8}}}(Ptr{Void} @0x000000031ad457c0,Ptr{Void} @0x000000010939ae70,Base.RefValue{##1074#1075}(#1074),##1074#1075)\n",
       " FunctionWrappers.FunctionWrapper{Bool,Tuple{WeakRefString{UInt8}}}(Ptr{Void} @0x000000031ad459b0,Ptr{Void} @0x000000010939ae88,Base.RefValue{##1076#1077}(#1076),##1076#1077)\n",
       " FunctionWrappers.FunctionWrapper{Bool,Tuple{WeakRefString{UInt8}}}(Ptr{Void} @0x000000031ad45ba0,Ptr{Void} @0x000000010939aea0,Base.RefValue{##1078#1079}(#1078),##1078#1079)\n",
       " FunctionWrappers.FunctionWrapper{Bool,Tuple{WeakRefString{UInt8}}}(Ptr{Void} @0x000000031ad45d90,Ptr{Void} @0x000000010939aeb8,Base.RefValue{##1080#1081}(#1080),##1080#1081)\n",
       " FunctionWrappers.FunctionWrapper{Bool,Tuple{WeakRefString{UInt8}}}(Ptr{Void} @0x000000031ad45f80,Ptr{Void} @0x000000010939aed8,Base.RefValue{##1082#1083}(#1082),##1082#1083)\n",
       " FunctionWrappers.FunctionWrapper{Bool,Tuple{WeakRefString{UInt8}}}(Ptr{Void} @0x000000031ad46170,Ptr{Void} @0x000000010939aef0,Base.RefValue{##1084#1085}(#1084),##1084#1085)\n",
       " FunctionWrappers.FunctionWrapper{Bool,Tuple{WeakRefString{UInt8}}}(Ptr{Void} @0x000000031ad46360,Ptr{Void} @0x000000010939af10,Base.RefValue{##1086#1087}(#1086),##1086#1087)\n",
       " FunctionWrappers.FunctionWrapper{Bool,Tuple{WeakRefString{UInt8}}}(Ptr{Void} @0x000000031ad46550,Ptr{Void} @0x000000010939af30,Base.RefValue{##1088#1089}(#1088),##1088#1089)\n",
       " FunctionWrappers.FunctionWrapper{Bool,Tuple{WeakRefString{UInt8}}}(Ptr{Void} @0x000000031ad46740,Ptr{Void} @0x000000010939af48,Base.RefValue{##1090#1091}(#1090),##1090#1091)\n",
       " FunctionWrappers.FunctionWrapper{Bool,Tuple{WeakRefString{UInt8}}}(Ptr{Void} @0x000000031ad46930,Ptr{Void} @0x000000010939af68,Base.RefValue{##1092#1093}(#1092),##1092#1093)\n",
       " FunctionWrappers.FunctionWrapper{Bool,Tuple{WeakRefString{UInt8}}}(Ptr{Void} @0x000000031ad46b20,Ptr{Void} @0x000000010939af78,Base.RefValue{##1094#1095}(#1094),##1094#1095)\n",
       " FunctionWrappers.FunctionWrapper{Bool,Tuple{WeakRefString{UInt8}}}(Ptr{Void} @0x000000031ad46d10,Ptr{Void} @0x000000010939af98,Base.RefValue{##1096#1097}(#1096),##1096#1097)\n",
       " FunctionWrappers.FunctionWrapper{Bool,Tuple{WeakRefString{UInt8}}}(Ptr{Void} @0x000000031ad46f00,Ptr{Void} @0x000000010939afa8,Base.RefValue{##1098#1099}(#1098),##1098#1099)\n",
       " FunctionWrappers.FunctionWrapper{Bool,Tuple{WeakRefString{UInt8}}}(Ptr{Void} @0x000000031ad470f0,Ptr{Void} @0x000000010939afc0,Base.RefValue{##1100#1101}(#1100),##1100#1101)\n",
       " FunctionWrappers.FunctionWrapper{Bool,Tuple{WeakRefString{UInt8}}}(Ptr{Void} @0x000000031ad472e0,Ptr{Void} @0x000000010939afd0,Base.RefValue{##1102#1103}(#1102),##1102#1103)\n",
       " FunctionWrappers.FunctionWrapper{Bool,Tuple{WeakRefString{UInt8}}}(Ptr{Void} @0x000000031ad474d0,Ptr{Void} @0x000000010939afe0,Base.RefValue{##1104#1105}(#1104),##1104#1105)"
      ]
     },
     "execution_count": 54,
     "metadata": {},
     "output_type": "execute_result"
    }
   ],
   "source": [
    "wrapped = FunctionWrapper{Bool, Tuple{WeakRefString{UInt8}}}[eval(:(x -> $l in x)) for l in 'a':'z']"
   ]
  },
  {
   "cell_type": "code",
   "execution_count": 55,
   "metadata": {
    "collapsed": false
   },
   "outputs": [
    {
     "data": {
      "text/plain": [
       "BenchmarkTools.Trial: \n",
       "  memory estimate:  144.00 bytes\n",
       "  allocs estimate:  3\n",
       "  --------------\n",
       "  minimum time:     828.579 ns (0.00% GC)\n",
       "  median time:      858.625 ns (0.00% GC)\n",
       "  mean time:        906.092 ns (0.86% GC)\n",
       "  maximum time:     21.012 μs (93.50% GC)\n",
       "  --------------\n",
       "  samples:          10000\n",
       "  evals/sample:     76\n",
       "  time tolerance:   5.00%\n",
       "  memory tolerance: 1.00%"
      ]
     },
     "execution_count": 55,
     "metadata": {},
     "output_type": "execute_result"
    }
   ],
   "source": [
    "@benchmark [b($ws) for b in $wrapped]"
   ]
  },
  {
   "cell_type": "code",
   "execution_count": 56,
   "metadata": {
    "collapsed": false
   },
   "outputs": [
    {
     "data": {
      "text/plain": [
       "BenchmarkTools.Trial: \n",
       "  memory estimate:  0.00 bytes\n",
       "  allocs estimate:  0\n",
       "  --------------\n",
       "  minimum time:     1.177 μs (0.00% GC)\n",
       "  median time:      1.192 μs (0.00% GC)\n",
       "  mean time:        1.284 μs (0.00% GC)\n",
       "  maximum time:     9.135 μs (0.00% GC)\n",
       "  --------------\n",
       "  samples:          10000\n",
       "  evals/sample:     10\n",
       "  time tolerance:   5.00%\n",
       "  memory tolerance: 1.00%"
      ]
     },
     "execution_count": 56,
     "metadata": {},
     "output_type": "execute_result"
    }
   ],
   "source": [
    "@benchmark evaluate($ws, $wrapped)"
   ]
  },
  {
   "cell_type": "code",
   "execution_count": 27,
   "metadata": {
    "collapsed": false
   },
   "outputs": [
    {
     "name": "stdout",
     "output_type": "stream",
     "text": [
      "Variables:\n",
      "  #self#::#evaluate\n",
      "  i::Int64\n",
      "  list::Array{FunctionWrappers.FunctionWrapper{Int64,Tuple{Int64}},1}\n",
      "  x::Int64\n",
      "  #temp#::Int64\n",
      "  b::FunctionWrappers.FunctionWrapper{Int64,Tuple{Int64}}\n",
      "  ptr@_7::Ptr{Void}\n",
      "  objptr@_8::Ptr{Void}\n",
      "  ptr@_9::Ptr{Void}\n",
      "  objptr@_10::Ptr{Void}\n",
      "\n",
      "Body:\n",
      "  begin \n",
      "      SSAValue(2) = (Base.arrayref)(list::Array{FunctionWrappers.FunctionWrapper{Int64,Tuple{Int64}},1},1)::FunctionWrappers.FunctionWrapper{Int64,Tuple{Int64}}\n",
      "      # meta: location /Users/rdeits/.julia/v0.5/FunctionWrappers/src/FunctionWrappers.jl FunctionWrapper 78\n",
      "      # meta: location /Users/rdeits/.julia/v0.5/FunctionWrappers/src/FunctionWrappers.jl do_ccall 63\n",
      "      NewvarNode(:(objptr@_8::Ptr{Void}))\n",
      "      # meta: location /Users/rdeits/.julia/v0.5/FunctionWrappers/src/FunctionWrappers.jl # line 64: # line 65:\n",
      "      ptr@_7::Ptr{Void} = (Core.getfield)(SSAValue(2),:ptr)::Ptr{Void} # line 66:\n",
      "      unless ((Base.box)(UInt64,ptr@_7::Ptr{Void}) === (Base.box)(UInt64,FunctionWrappers.C_NULL))::Bool goto 13 # line 68:\n",
      "      ptr@_7::Ptr{Void} = $(Expr(:invoke, LambdaInfo for reinit_wrapper(::FunctionWrappers.FunctionWrapper{Int64,Tuple{Int64}}), :(FunctionWrappers.reinit_wrapper), SSAValue(2)))\n",
      "      13:  # line 70:\n",
      "      ((Core.getfield)(FunctionWrappers.Base,:llvmcall)::I)((Core.tuple)(\"declare void @llvm.assume(i1)\",\"%v = trunc i8 %0 to i1\\ncall void @llvm.assume(i1 %v)\\nret void\\n\")::Tuple{String,String},FunctionWrappers.Void,(Core.apply_type)(FunctionWrappers.Tuple,FunctionWrappers.Bool)::Type{Tuple{Bool}},(Base.box)(Base.Bool,(Base.not_int)(((Base.box)(UInt64,ptr@_7::Ptr{Void}) === (Base.box)(UInt64,FunctionWrappers.C_NULL))::Bool)))::Void # line 71:\n",
      "      objptr@_8::Ptr{Void} = (Core.getfield)(SSAValue(2),:objptr)::Ptr{Void} # line 72:\n",
      "      SSAValue(3) = objptr@_8::Ptr{Void}\n",
      "      SSAValue(4) = i::Int64\n",
      "      SSAValue(5) = (Core.ccall)(ptr@_7::Ptr{Void},Int64,(Core.svec)((Core.apply_type)(FunctionWrappers.Ptr,FunctionWrappers.Void)::Type{Ptr{Void}},Int64)::SimpleVector,SSAValue(3),0,SSAValue(4),0)::Int64\n",
      "      # meta: pop location\n",
      "      # meta: pop location\n",
      "      # meta: pop location\n",
      "      x::Int64 = SSAValue(5) # line 3:\n",
      "      #temp#::Int64 = $(QuoteNode(1))\n",
      "      28: \n",
      "      unless (Base.box)(Base.Bool,(Base.not_int)((#temp#::Int64 === (Base.box)(Int64,(Base.add_int)((Base.arraylen)(list::Array{FunctionWrappers.FunctionWrapper{Int64,Tuple{Int64}},1})::Int64,1)))::Bool)) goto 61\n",
      "      SSAValue(9) = (Base.arrayref)(list::Array{FunctionWrappers.FunctionWrapper{Int64,Tuple{Int64}},1},#temp#::Int64)::FunctionWrappers.FunctionWrapper{Int64,Tuple{Int64}}\n",
      "      SSAValue(10) = (Base.box)(Int64,(Base.add_int)(#temp#::Int64,1))\n",
      "      b::FunctionWrappers.FunctionWrapper{Int64,Tuple{Int64}} = SSAValue(9)\n",
      "      #temp#::Int64 = SSAValue(10) # line 4:\n",
      "      # meta: location /Users/rdeits/.julia/v0.5/FunctionWrappers/src/FunctionWrappers.jl FunctionWrapper 78\n",
      "      # meta: location /Users/rdeits/.julia/v0.5/FunctionWrappers/src/FunctionWrappers.jl do_ccall 63\n",
      "      NewvarNode(:(objptr@_10::Ptr{Void}))\n",
      "      # meta: location /Users/rdeits/.julia/v0.5/FunctionWrappers/src/FunctionWrappers.jl # line 64: # line 65:\n",
      "      ptr@_9::Ptr{Void} = (Core.getfield)(b::FunctionWrappers.FunctionWrapper{Int64,Tuple{Int64}},:ptr)::Ptr{Void} # line 66:\n",
      "      unless ((Base.box)(UInt64,ptr@_9::Ptr{Void}) === (Base.box)(UInt64,FunctionWrappers.C_NULL))::Bool goto 46 # line 68:\n",
      "      ptr@_9::Ptr{Void} = $(Expr(:invoke, LambdaInfo for reinit_wrapper(::FunctionWrappers.FunctionWrapper{Int64,Tuple{Int64}}), :(FunctionWrappers.reinit_wrapper), :(b)))\n",
      "      46:  # line 70:\n",
      "      ((Core.getfield)(FunctionWrappers.Base,:llvmcall)::I)((Core.tuple)(\"declare void @llvm.assume(i1)\",\"%v = trunc i8 %0 to i1\\ncall void @llvm.assume(i1 %v)\\nret void\\n\")::Tuple{String,String},FunctionWrappers.Void,(Core.apply_type)(FunctionWrappers.Tuple,FunctionWrappers.Bool)::Type{Tuple{Bool}},(Base.box)(Base.Bool,(Base.not_int)(((Base.box)(UInt64,ptr@_9::Ptr{Void}) === (Base.box)(UInt64,FunctionWrappers.C_NULL))::Bool)))::Void # line 71:\n",
      "      objptr@_10::Ptr{Void} = (Core.getfield)(b::FunctionWrappers.FunctionWrapper{Int64,Tuple{Int64}},:objptr)::Ptr{Void} # line 72:\n",
      "      SSAValue(6) = objptr@_10::Ptr{Void}\n",
      "      SSAValue(7) = i::Int64\n",
      "      SSAValue(8) = (Core.ccall)(ptr@_9::Ptr{Void},Int64,(Core.svec)((Core.apply_type)(FunctionWrappers.Ptr,FunctionWrappers.Void)::Type{Ptr{Void}},Int64)::SimpleVector,SSAValue(6),0,SSAValue(7),0)::Int64\n",
      "      # meta: pop location\n",
      "      # meta: pop location\n",
      "      # meta: pop location\n",
      "      x::Int64 = (Base.box)(Int64,(Base.add_int)(x::Int64,SSAValue(8)))\n",
      "      59: \n",
      "      goto 28\n",
      "      61:  # line 6:\n",
      "      return x::Int64\n",
      "  end::Int64\n"
     ]
    }
   ],
   "source": [
    "@code_warntype evaluate(1, wrapped)"
   ]
  },
  {
   "cell_type": "code",
   "execution_count": null,
   "metadata": {
    "collapsed": true
   },
   "outputs": [],
   "source": []
  }
 ],
 "metadata": {
  "kernelspec": {
   "display_name": "Julia 0.5.0",
   "language": "julia",
   "name": "julia-0.5"
  },
  "language_info": {
   "file_extension": ".jl",
   "mimetype": "application/julia",
   "name": "julia",
   "version": "0.5.0"
  }
 },
 "nbformat": 4,
 "nbformat_minor": 2
}
