{
 "cells": [
  {
   "cell_type": "code",
   "execution_count": 1,
   "metadata": {
    "collapsed": true
   },
   "outputs": [],
   "source": [
    "using Base.Test\n",
    "using BenchmarkTools"
   ]
  },
  {
   "cell_type": "code",
   "execution_count": 323,
   "metadata": {
    "collapsed": false
   },
   "outputs": [
    {
     "name": "stderr",
     "output_type": "stream",
     "text": [
      "WARNING: replacing module nowrap\n"
     ]
    },
    {
     "data": {
      "text/plain": [
       "nowrap"
      ]
     },
     "execution_count": 323,
     "metadata": {},
     "output_type": "execute_result"
    }
   ],
   "source": [
    "module nowrap\n",
    "\n",
    "import Base: getindex, show\n",
    "# import WeakRefStrings: WeakRefString\n",
    "# import FunctionWrappers: FunctionWrapper\n",
    "\n",
    "immutable Statistics\n",
    "    word::String\n",
    "end\n",
    "\n",
    "immutable Feature\n",
    "    f::Function\n",
    "    description::String\n",
    "end\n",
    "\n",
    "size(::Feature) = ()\n",
    "getindex(f::Feature, ::CartesianIndex{0}) = f\n",
    "\n",
    "function allfeatures()\n",
    "    features = Feature[]\n",
    "    \n",
    "    for l in 'a':'z'\n",
    "        push!(features, Feature(stat -> l in stat.word, \"contains '$l'\"))\n",
    "    end\n",
    "\n",
    "    for l in 'a':'z'\n",
    "        for j in 1:26\n",
    "            push!(features, Feature(stat -> length(stat.word) >= j && stat.word[j] == l, \"contains '$l' at index $j\"))\n",
    "        end\n",
    "    end\n",
    "    features\n",
    "end\n",
    "\n",
    "# macro feature(expr, description)\n",
    "#     quote\n",
    "#         push!(FEATURES, Feature($(esc(expr)), $description))\n",
    "#     end\n",
    "# end\n",
    "\n",
    "show(io::IO, feature::Feature) = print(io, \"Feature: `$(feature.description)`\")\n",
    "\n",
    "(f::Feature)(stat::Statistics)::Bool = f.f(stat)::Bool\n",
    "satisfies(f::Feature, stat::Statistics)::Bool = f.f(stat)::Bool\n",
    "\n",
    "end"
   ]
  },
  {
   "cell_type": "code",
   "execution_count": 334,
   "metadata": {
    "collapsed": false
   },
   "outputs": [
    {
     "data": {
      "text/plain": [
       "nowrap.Statistics(\"hello\")"
      ]
     },
     "execution_count": 334,
     "metadata": {},
     "output_type": "execute_result"
    }
   ],
   "source": [
    "fs = nowrap.allfeatures()\n",
    "f = fs[1]\n",
    "s = \"hello\"\n",
    "stat = nowrap.Statistics(s)"
   ]
  },
  {
   "cell_type": "code",
   "execution_count": 331,
   "metadata": {
    "collapsed": false
   },
   "outputs": [
    {
     "data": {
      "text/plain": [
       "BenchmarkTools.Trial: \n",
       "  memory estimate:  0.00 bytes\n",
       "  allocs estimate:  0\n",
       "  --------------\n",
       "  minimum time:     91.999 ns (0.00% GC)\n",
       "  median time:      97.143 ns (0.00% GC)\n",
       "  mean time:        105.977 ns (0.00% GC)\n",
       "  maximum time:     439.447 ns (0.00% GC)\n",
       "  --------------\n",
       "  samples:          10000\n",
       "  evals/sample:     950\n",
       "  time tolerance:   5.00%\n",
       "  memory tolerance: 1.00%"
      ]
     },
     "execution_count": 331,
     "metadata": {},
     "output_type": "execute_result"
    }
   ],
   "source": [
    "@benchmark $f($stat)"
   ]
  },
  {
   "cell_type": "code",
   "execution_count": 326,
   "metadata": {
    "collapsed": false
   },
   "outputs": [
    {
     "data": {
      "text/plain": [
       "702-element Array{Bool,1}:\n",
       " false\n",
       " false\n",
       " false\n",
       " false\n",
       "  true\n",
       " false\n",
       " false\n",
       "  true\n",
       " false\n",
       " false\n",
       " false\n",
       "  true\n",
       " false\n",
       "     ⋮\n",
       " false\n",
       " false\n",
       " false\n",
       " false\n",
       " false\n",
       " false\n",
       " false\n",
       " false\n",
       " false\n",
       " false\n",
       " false\n",
       " false"
      ]
     },
     "execution_count": 326,
     "metadata": {},
     "output_type": "execute_result"
    }
   ],
   "source": [
    "[nowrap.satisfies(f, stat) for f in fs]"
   ]
  },
  {
   "cell_type": "code",
   "execution_count": 327,
   "metadata": {
    "collapsed": false
   },
   "outputs": [
    {
     "data": {
      "text/plain": [
       "BenchmarkTools.Trial: \n",
       "  memory estimate:  848.00 bytes\n",
       "  allocs estimate:  3\n",
       "  --------------\n",
       "  minimum time:     68.571 μs (0.00% GC)\n",
       "  median time:      75.004 μs (0.00% GC)\n",
       "  mean time:        83.222 μs (0.00% GC)\n",
       "  maximum time:     375.349 μs (0.00% GC)\n",
       "  --------------\n",
       "  samples:          10000\n",
       "  evals/sample:     1\n",
       "  time tolerance:   5.00%\n",
       "  memory tolerance: 1.00%"
      ]
     },
     "execution_count": 327,
     "metadata": {},
     "output_type": "execute_result"
    }
   ],
   "source": [
    "@benchmark [g($stat) for g in $fs]"
   ]
  },
  {
   "cell_type": "code",
   "execution_count": 328,
   "metadata": {
    "collapsed": false
   },
   "outputs": [
    {
     "name": "stderr",
     "output_type": "stream",
     "text": [
      "WARNING: Method definition applyall(Any, Any) in module Main at In[321]:2 overwritten at In[328]:2.\n"
     ]
    },
    {
     "data": {
      "text/plain": [
       "applyall (generic function with 1 method)"
      ]
     },
     "execution_count": 328,
     "metadata": {},
     "output_type": "execute_result"
    }
   ],
   "source": [
    "function applyall(stat, fs)\n",
    "    x = nowrap.satisfies(fs[1], stat)\n",
    "end"
   ]
  },
  {
   "cell_type": "code",
   "execution_count": 329,
   "metadata": {
    "collapsed": false
   },
   "outputs": [
    {
     "name": "stdout",
     "output_type": "stream",
     "text": [
      "Variables:\n",
      "  #self#::#applyall\n",
      "  stat::nowrap.Statistics\n",
      "  fs::Array{nowrap.Feature,1}\n",
      "  x::Bool\n",
      "\n",
      "Body:\n",
      "  begin \n",
      "      SSAValue(1) = (Base.arrayref)(fs::Array{nowrap.Feature,1},1)::nowrap.Feature\n",
      "      # meta: location  satisfies 0\n",
      "      SSAValue(2) = (Core.typeassert)(((Core.getfield)(SSAValue(1),:f)::F)(stat::nowrap.Statistics)::ANY,nowrap.Bool)::Bool\n",
      "      # meta: pop location\n",
      "      SSAValue(0) = SSAValue(2)\n",
      "      x::Bool = SSAValue(0)\n",
      "      return SSAValue(0)\n",
      "  end::Bool\n"
     ]
    }
   ],
   "source": [
    "@code_warntype applyall(stat, fs)"
   ]
  },
  {
   "cell_type": "code",
   "execution_count": null,
   "metadata": {
    "collapsed": true
   },
   "outputs": [],
   "source": []
  },
  {
   "cell_type": "code",
   "execution_count": null,
   "metadata": {
    "collapsed": true
   },
   "outputs": [],
   "source": []
  }
 ],
 "metadata": {
  "kernelspec": {
   "display_name": "Julia 0.5.0",
   "language": "julia",
   "name": "julia-0.5"
  },
  "language_info": {
   "file_extension": ".jl",
   "mimetype": "application/julia",
   "name": "julia",
   "version": "0.5.0"
  }
 },
 "nbformat": 4,
 "nbformat_minor": 2
}
