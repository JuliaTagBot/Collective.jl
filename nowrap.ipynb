{
 "cells": [
  {
   "cell_type": "code",
   "execution_count": 1,
   "metadata": {
    "collapsed": true
   },
   "outputs": [],
   "source": [
    "using BenchmarkTools\n",
    "using Base.Test"
   ]
  },
  {
   "cell_type": "code",
   "execution_count": 11,
   "metadata": {
    "collapsed": false
   },
   "outputs": [
    {
     "name": "stderr",
     "output_type": "stream",
     "text": [
      "WARNING: replacing module nowrap\n"
     ]
    },
    {
     "data": {
      "text/plain": [
       "nowrap"
      ]
     },
     "execution_count": 11,
     "metadata": {},
     "output_type": "execute_result"
    }
   ],
   "source": [
    "module nowrap\n",
    "\n",
    "import Base: getindex\n",
    "\n",
    "type Statistics\n",
    "    word::String\n",
    "end\n",
    "\n",
    "abstract Feature\n",
    "size(::Feature) = ()\n",
    "getindex(f::Feature, ::CartesianIndex{0}) = f\n",
    "\n",
    "const FEATURES = Feature[]\n",
    "\n",
    "function allfeatures()\n",
    "    return FEATURES\n",
    "end\n",
    "\n",
    "macro addfeatures(T, expr)\n",
    "    quote\n",
    "        allfeatures(::Type{$T}) = $(esc(expr))\n",
    "        append!(FEATURES, allfeatures($T))\n",
    "    end\n",
    "end\n",
    "\n",
    "immutable ContainsLetter <: Feature\n",
    "    letter::Char\n",
    "end\n",
    "@addfeatures ContainsLetter [ContainsLetter(l) for l in 'a':'z']\n",
    "satisfies(f::ContainsLetter, stat) = f.letter in stat.word\n",
    "# (f::ContainsLetter)(stat) = f.letter in stat.word\n",
    "\n",
    "immutable LetterAtIndex <: Feature\n",
    "    letter::Char\n",
    "    index::Int\n",
    "end\n",
    "@addfeatures LetterAtIndex [LetterAtIndex(l, j) for l in 'a':'z' for j in 1:26]\n",
    "satisfies(f::LetterAtIndex, stat) = length(stat.word) >= f.index && stat.word[f.index] == f.letter\n",
    "# (f::LetterAtIndex)(stat) = length(stat.word) >= f.index && stat.word[f.index] == f.letter\n",
    "\n",
    "end"
   ]
  },
  {
   "cell_type": "code",
   "execution_count": 12,
   "metadata": {
    "collapsed": false
   },
   "outputs": [
    {
     "data": {
      "text/plain": [
       "BenchmarkTools.Trial: \n",
       "  memory estimate:  848.00 bytes\n",
       "  allocs estimate:  3\n",
       "  --------------\n",
       "  minimum time:     34.332 μs (0.00% GC)\n",
       "  median time:      37.552 μs (0.00% GC)\n",
       "  mean time:        42.055 μs (0.00% GC)\n",
       "  maximum time:     231.012 μs (0.00% GC)\n",
       "  --------------\n",
       "  samples:          10000\n",
       "  evals/sample:     1\n",
       "  time tolerance:   5.00%\n",
       "  memory tolerance: 1.00%"
      ]
     },
     "execution_count": 12,
     "metadata": {},
     "output_type": "execute_result"
    }
   ],
   "source": [
    "stat = nowrap.Statistics(\"hello\")\n",
    "fs = nowrap.allfeatures()\n",
    "@benchmark [nowrap.satisfies(f, $stat) for f in $fs]"
   ]
  },
  {
   "cell_type": "code",
   "execution_count": 13,
   "metadata": {
    "collapsed": false
   },
   "outputs": [
    {
     "data": {
      "text/plain": [
       "BenchmarkTools.Trial: \n",
       "  memory estimate:  0.00 bytes\n",
       "  allocs estimate:  0\n",
       "  --------------\n",
       "  minimum time:     21.617 ns (0.00% GC)\n",
       "  median time:      23.715 ns (0.00% GC)\n",
       "  mean time:        29.782 ns (0.00% GC)\n",
       "  maximum time:     181.680 ns (0.00% GC)\n",
       "  --------------\n",
       "  samples:          10000\n",
       "  evals/sample:     997\n",
       "  time tolerance:   5.00%\n",
       "  memory tolerance: 1.00%"
      ]
     },
     "execution_count": 13,
     "metadata": {},
     "output_type": "execute_result"
    }
   ],
   "source": [
    "f = fs[1]\n",
    "@benchmark nowrap.satisfies($f, $stat)"
   ]
  },
  {
   "cell_type": "code",
   "execution_count": 14,
   "metadata": {
    "collapsed": false
   },
   "outputs": [
    {
     "data": {
      "text/plain": [
       "BenchmarkTools.Trial: \n",
       "  memory estimate:  864.00 bytes\n",
       "  allocs estimate:  4\n",
       "  --------------\n",
       "  minimum time:     25.161 μs (0.00% GC)\n",
       "  median time:      25.818 μs (0.00% GC)\n",
       "  mean time:        27.955 μs (0.00% GC)\n",
       "  maximum time:     140.912 μs (0.00% GC)\n",
       "  --------------\n",
       "  samples:          10000\n",
       "  evals/sample:     1\n",
       "  time tolerance:   5.00%\n",
       "  memory tolerance: 1.00%"
      ]
     },
     "execution_count": 14,
     "metadata": {},
     "output_type": "execute_result"
    }
   ],
   "source": [
    "@benchmark [f($stat) for f in $fs]"
   ]
  },
  {
   "cell_type": "code",
   "execution_count": 15,
   "metadata": {
    "collapsed": false
   },
   "outputs": [
    {
     "data": {
      "text/plain": [
       "BenchmarkTools.Trial: \n",
       "  memory estimate:  0.00 bytes\n",
       "  allocs estimate:  0\n",
       "  --------------\n",
       "  minimum time:     21.570 ns (0.00% GC)\n",
       "  median time:      23.747 ns (0.00% GC)\n",
       "  mean time:        24.509 ns (0.00% GC)\n",
       "  maximum time:     123.153 ns (0.00% GC)\n",
       "  --------------\n",
       "  samples:          10000\n",
       "  evals/sample:     996\n",
       "  time tolerance:   5.00%\n",
       "  memory tolerance: 1.00%"
      ]
     },
     "execution_count": 15,
     "metadata": {},
     "output_type": "execute_result"
    }
   ],
   "source": [
    "@benchmark $f($stat)"
   ]
  },
  {
   "cell_type": "code",
   "execution_count": 16,
   "metadata": {
    "collapsed": false
   },
   "outputs": [
    {
     "data": {
      "text/plain": [
       "702-element Array{Bool,1}:\n",
       " false\n",
       " false\n",
       " false\n",
       " false\n",
       "  true\n",
       " false\n",
       " false\n",
       "  true\n",
       " false\n",
       " false\n",
       " false\n",
       "  true\n",
       " false\n",
       "     ⋮\n",
       " false\n",
       " false\n",
       " false\n",
       " false\n",
       " false\n",
       " false\n",
       " false\n",
       " false\n",
       " false\n",
       " false\n",
       " false\n",
       " false"
      ]
     },
     "execution_count": 16,
     "metadata": {},
     "output_type": "execute_result"
    }
   ],
   "source": [
    "[f(stat) for f in fs]"
   ]
  },
  {
   "cell_type": "code",
   "execution_count": 4,
   "metadata": {
    "collapsed": false
   },
   "outputs": [
    {
     "data": {
      "text/plain": [
       "nowrap.ContainsLetter('a')"
      ]
     },
     "execution_count": 4,
     "metadata": {},
     "output_type": "execute_result"
    }
   ],
   "source": [
    "f = fs[1]"
   ]
  },
  {
   "cell_type": "code",
   "execution_count": 6,
   "metadata": {
    "collapsed": false
   },
   "outputs": [
    {
     "name": "stdout",
     "output_type": "stream",
     "text": [
      "Variables:\n",
      "  #self#::Base.Broadcast.#broadcast\n",
      "  f::nowrap.#satisfies\n",
      "  As::Tuple{Array{nowrap.Feature,1},nowrap.Statistics}\n",
      "\n",
      "Body:\n",
      "  begin \n",
      "      return $(Expr(:invoke, LambdaInfo for broadcast_t(::Function, ::Type{Any}, ::Array{nowrap.Feature,1}, ::Vararg{Any,N}), :(Base.Broadcast.broadcast_t), :(f), :($(QuoteNode(Any))), :((Core.getfield)(As,1)::Array{nowrap.Feature,1}), :((Core.getfield)(As,2)::nowrap.Statistics)))\n",
      "  end::ANY\n"
     ]
    }
   ],
   "source": [
    "@code_warntype nowrap.satisfies.(fs, stat)"
   ]
  },
  {
   "cell_type": "code",
   "execution_count": null,
   "metadata": {
    "collapsed": true
   },
   "outputs": [],
   "source": []
  }
 ],
 "metadata": {
  "kernelspec": {
   "display_name": "Julia 0.5.0",
   "language": "julia",
   "name": "julia-0.5"
  },
  "language_info": {
   "file_extension": ".jl",
   "mimetype": "application/julia",
   "name": "julia",
   "version": "0.5.0"
  }
 },
 "nbformat": 4,
 "nbformat_minor": 2
}
