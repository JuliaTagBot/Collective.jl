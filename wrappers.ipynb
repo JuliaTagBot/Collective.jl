{
 "cells": [
  {
   "cell_type": "code",
   "execution_count": 26,
   "metadata": {
    "collapsed": true
   },
   "outputs": [],
   "source": [
    "using BenchmarkTools\n",
    "using Base.Test"
   ]
  },
  {
   "cell_type": "code",
   "execution_count": null,
   "metadata": {
    "collapsed": true
   },
   "outputs": [],
   "source": []
  },
  {
   "cell_type": "code",
   "execution_count": 16,
   "metadata": {
    "collapsed": false
   },
   "outputs": [
    {
     "data": {
      "text/plain": [
       "true"
      ]
     },
     "execution_count": 16,
     "metadata": {},
     "output_type": "execute_result"
    }
   ],
   "source": [
    "Base.Test.@inferred nowrap.satisfies(nowrap.ContainsLetter('h'), stat)"
   ]
  },
  {
   "cell_type": "code",
   "execution_count": 41,
   "metadata": {
    "collapsed": false
   },
   "outputs": [
    {
     "name": "stderr",
     "output_type": "stream",
     "text": [
      "WARNING: replacing module wrap\n"
     ]
    },
    {
     "data": {
      "text/plain": [
       "wrap"
      ]
     },
     "execution_count": 41,
     "metadata": {},
     "output_type": "execute_result"
    }
   ],
   "source": [
    "module wrap\n",
    "\n",
    "import FunctionWrappers: FunctionWrapper\n",
    "\n",
    "immutable Statistics\n",
    "    word::String\n",
    "end\n",
    "\n",
    "immutable Feature\n",
    "    f::FunctionWrapper{Bool, Tuple{String}}\n",
    "end\n",
    "\n",
    "(feat::Feature)(stat) = feat.f(stat)\n",
    "satisfies(feat::Feature, stat) = feat.f(stat)\n",
    "\n",
    "const FEATURES = Feature[]\n",
    "\n",
    "function allfeatures()\n",
    "    return FEATURES\n",
    "end\n",
    "\n",
    "for l in 'a':'z'\n",
    "    push!(FEATURES, Feature(word -> l in word))\n",
    "end\n",
    "\n",
    "for l in 'a':'z'\n",
    "    for j in 1:26\n",
    "        push!(FEATURES, Feature(word -> length(word) >= j && word[j] == l))\n",
    "    end\n",
    "end\n",
    "\n",
    "end"
   ]
  },
  {
   "cell_type": "code",
   "execution_count": 42,
   "metadata": {
    "collapsed": false
   },
   "outputs": [
    {
     "data": {
      "text/plain": [
       "BenchmarkTools.Trial: \n",
       "  memory estimate:  11.80 kb\n",
       "  allocs estimate:  705\n",
       "  --------------\n",
       "  minimum time:     128.010 μs (0.00% GC)\n",
       "  median time:      134.542 μs (0.00% GC)\n",
       "  mean time:        142.001 μs (0.43% GC)\n",
       "  maximum time:     1.920 ms (84.36% GC)\n",
       "  --------------\n",
       "  samples:          10000\n",
       "  evals/sample:     1\n",
       "  time tolerance:   5.00%\n",
       "  memory tolerance: 1.00%"
      ]
     },
     "execution_count": 42,
     "metadata": {},
     "output_type": "execute_result"
    }
   ],
   "source": [
    "word = \"hello\"\n",
    "# stat = wrap.Statistics(word)\n",
    "fs = wrap.allfeatures()\n",
    "@benchmark [f($word) for f in $fs]"
   ]
  },
  {
   "cell_type": "code",
   "execution_count": 43,
   "metadata": {
    "collapsed": false
   },
   "outputs": [
    {
     "data": {
      "text/plain": [
       "wrap.Feature(FunctionWrappers.FunctionWrapper{Bool,Tuple{String}}(Ptr{Void} @0x000000031fb318f0,Ptr{Void} @0x000000011982a080,Base.RefValue{wrap.##1#2}(wrap.#1),wrap.##1#2))"
      ]
     },
     "execution_count": 43,
     "metadata": {},
     "output_type": "execute_result"
    }
   ],
   "source": [
    "f = fs[1]"
   ]
  },
  {
   "cell_type": "code",
   "execution_count": 45,
   "metadata": {
    "collapsed": false
   },
   "outputs": [
    {
     "name": "stdout",
     "output_type": "stream",
     "text": [
      "Variables:\n",
      "  feat::wrap.Feature\n",
      "  stat::String\n",
      "  ptr::Ptr{Void}\n",
      "  objptr::Ptr{Void}\n",
      "\n",
      "Body:\n",
      "  begin \n",
      "      SSAValue(0) = (Core.getfield)(feat::wrap.Feature,:f)::FunctionWrappers.FunctionWrapper{Bool,Tuple{String}}\n",
      "      # meta: location /Users/rdeits/.julia/v0.5/FunctionWrappers/src/FunctionWrappers.jl FunctionWrapper 78\n",
      "      # meta: location /Users/rdeits/.julia/v0.5/FunctionWrappers/src/FunctionWrappers.jl do_ccall 63\n",
      "      NewvarNode(:(objptr::Ptr{Void}))\n",
      "      # meta: location /Users/rdeits/.julia/v0.5/FunctionWrappers/src/FunctionWrappers.jl # line 64: # line 65:\n",
      "      ptr::Ptr{Void} = (Core.getfield)(SSAValue(0),:ptr)::Ptr{Void} # line 66:\n",
      "      unless ((Base.box)(UInt64,ptr::Ptr{Void}) === (Base.box)(UInt64,FunctionWrappers.C_NULL))::Bool goto 13 # line 68:\n",
      "      ptr::Ptr{Void} = $(Expr(:invoke, LambdaInfo for reinit_wrapper(::FunctionWrappers.FunctionWrapper{Bool,Tuple{String}}), :(FunctionWrappers.reinit_wrapper), SSAValue(0)))\n",
      "      13:  # line 70:\n",
      "      ((Core.getfield)(FunctionWrappers.Base,:llvmcall)::I)((Core.tuple)(\"declare void @llvm.assume(i1)\",\"%v = trunc i8 %0 to i1\\ncall void @llvm.assume(i1 %v)\\nret void\\n\")::Tuple{String,String},FunctionWrappers.Void,(Core.apply_type)(FunctionWrappers.Tuple,FunctionWrappers.Bool)::Type{Tuple{Bool}},(Base.box)(Base.Bool,(Base.not_int)(((Base.box)(UInt64,ptr::Ptr{Void}) === (Base.box)(UInt64,FunctionWrappers.C_NULL))::Bool)))::Void # line 71:\n",
      "      objptr::Ptr{Void} = (Core.getfield)(SSAValue(0),:objptr)::Ptr{Void} # line 72:\n",
      "      SSAValue(1) = objptr::Ptr{Void}\n",
      "      SSAValue(2) = $(Expr(:new, Base.RefValue{String}, :(stat)))\n",
      "      # meta: location refpointer.jl unsafe_convert 20\n",
      "      # meta: location refpointer.jl unsafe_convert 40\n",
      "      false\n",
      "      goto 26 # line 41:\n",
      "      26:  # line 43:\n",
      "      SSAValue(4) = (Core.getfield)(SSAValue(2),:x)::String\n",
      "      SSAValue(5) = (Core.ccall)(:jl_value_ptr,(Core.apply_type)(Base.Ptr,Base.Void)::Type{Ptr{Void}},(Core.svec)(Base.Any)::SimpleVector,SSAValue(4),0)::Ptr{Void}\n",
      "      # meta: pop location\n",
      "      # meta: pop location\n",
      "      SSAValue(3) = (Core.ccall)(ptr::Ptr{Void},Bool,(Core.svec)((Core.apply_type)(FunctionWrappers.Ptr,FunctionWrappers.Void)::Type{Ptr{Void}},Ref{String})::SimpleVector,SSAValue(1),0,(Base.box)(Ptr{String},SSAValue(5)),SSAValue(2))::Bool\n",
      "      # meta: pop location\n",
      "      # meta: pop location\n",
      "      # meta: pop location\n",
      "      return SSAValue(3)\n",
      "  end::Bool\n"
     ]
    }
   ],
   "source": [
    "@code_warntype f(word)"
   ]
  },
  {
   "cell_type": "code",
   "execution_count": 51,
   "metadata": {
    "collapsed": false
   },
   "outputs": [
    {
     "data": {
      "text/plain": [
       "702-element Array{Bool,1}:\n",
       " false\n",
       " false\n",
       " false\n",
       " false\n",
       "  true\n",
       " false\n",
       " false\n",
       "  true\n",
       " false\n",
       " false\n",
       " false\n",
       "  true\n",
       " false\n",
       "     ⋮\n",
       " false\n",
       " false\n",
       " false\n",
       " false\n",
       " false\n",
       " false\n",
       " false\n",
       " false\n",
       " false\n",
       " false\n",
       " false\n",
       " false"
      ]
     },
     "execution_count": 51,
     "metadata": {},
     "output_type": "execute_result"
    }
   ],
   "source": [
    "[f(word) for f in fs]"
   ]
  },
  {
   "cell_type": "code",
   "execution_count": 50,
   "metadata": {
    "collapsed": false
   },
   "outputs": [
    {
     "ename": "LoadError",
     "evalue": "LoadError: expression is not a function call, or is too complex for @code_warntype to analyze; break it down to simpler parts if possible\nwhile loading In[50], in expression starting on line 1",
     "output_type": "error",
     "traceback": [
      "LoadError: expression is not a function call, or is too complex for @code_warntype to analyze; break it down to simpler parts if possible\nwhile loading In[50], in expression starting on line 1",
      "",
      " in error(::String) at ./error.jl:21",
      " in error(::String) at /Applications/Julia-0.5.app/Contents/Resources/julia/lib/julia/sys.dylib:?"
     ]
    }
   ],
   "source": [
    "@code_warntype([f(word) for f in fs])"
   ]
  },
  {
   "cell_type": "code",
   "execution_count": 33,
   "metadata": {
    "collapsed": false
   },
   "outputs": [
    {
     "data": {
      "text/plain": [
       "BenchmarkTools.Trial: \n",
       "  memory estimate:  16.00 bytes\n",
       "  allocs estimate:  1\n",
       "  --------------\n",
       "  minimum time:     65.524 ns (0.00% GC)\n",
       "  median time:      68.619 ns (0.00% GC)\n",
       "  mean time:        78.206 ns (0.77% GC)\n",
       "  maximum time:     1.114 μs (91.29% GC)\n",
       "  --------------\n",
       "  samples:          10000\n",
       "  evals/sample:     977\n",
       "  time tolerance:   5.00%\n",
       "  memory tolerance: 1.00%"
      ]
     },
     "execution_count": 33,
     "metadata": {},
     "output_type": "execute_result"
    }
   ],
   "source": [
    "@benchmark $f($stat)"
   ]
  },
  {
   "cell_type": "code",
   "execution_count": 27,
   "metadata": {
    "collapsed": false
   },
   "outputs": [
    {
     "data": {
      "text/plain": [
       "false"
      ]
     },
     "execution_count": 27,
     "metadata": {},
     "output_type": "execute_result"
    }
   ],
   "source": [
    "@inferred(fs[1](stat))"
   ]
  },
  {
   "cell_type": "code",
   "execution_count": null,
   "metadata": {
    "collapsed": true
   },
   "outputs": [],
   "source": []
  }
 ],
 "metadata": {
  "kernelspec": {
   "display_name": "Julia 0.5.0",
   "language": "julia",
   "name": "julia-0.5"
  },
  "language_info": {
   "file_extension": ".jl",
   "mimetype": "application/julia",
   "name": "julia",
   "version": "0.5.0"
  }
 },
 "nbformat": 4,
 "nbformat_minor": 2
}
